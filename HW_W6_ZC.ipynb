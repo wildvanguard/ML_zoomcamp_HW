{
 "cells": [
  {
   "cell_type": "markdown",
   "id": "63949c01-b2b0-45ff-9d4f-d8527397c120",
   "metadata": {},
   "source": [
    "## HOMEWORK\n",
    "\n",
    "The goal of this homework is to create a regression model for predicting housing prices (column 'median_house_value')."
   ]
  },
  {
   "cell_type": "code",
   "execution_count": 82,
   "id": "5e90c1c5-f9aa-408b-a286-b285ac97d97a",
   "metadata": {},
   "outputs": [],
   "source": [
    "import re\n",
    "import numpy as np\n",
    "import pandas as pd\n",
    "import seaborn as sns\n",
    "import xgboost as xgb\n",
    "import matplotlib.pyplot as plt\n",
    "from tqdm.auto import tqdm\n",
    "from sklearn.tree import DecisionTreeRegressor\n",
    "from sklearn.tree import export_text\n",
    "from sklearn.feature_extraction import DictVectorizer\n",
    "from sklearn.model_selection import train_test_split\n",
    "from sklearn.ensemble import RandomForestRegressor\n",
    "from sklearn.metrics import mean_squared_error\n",
    "\n",
    "%matplotlib inline"
   ]
  },
  {
   "cell_type": "code",
   "execution_count": 83,
   "id": "53e7b097-2c24-46ba-ad26-9f54c209a6f2",
   "metadata": {},
   "outputs": [],
   "source": [
    "select_cols = [\"longitude\", \"latitude\", \"housing_median_age\", \"total_rooms\", \"total_bedrooms\", \"population\", \"households\", \n",
    "               \"median_income\", \"median_house_value\", \"ocean_proximity\"]\n",
    "df = pd.read_csv('https://raw.githubusercontent.com/alexeygrigorev/datasets/master/housing.csv', usecols=select_cols)"
   ]
  },
  {
   "cell_type": "code",
   "execution_count": 84,
   "id": "0f918507-2d1c-4618-ad1a-054682027d26",
   "metadata": {},
   "outputs": [
    {
     "data": {
      "text/html": [
       "<div>\n",
       "<style scoped>\n",
       "    .dataframe tbody tr th:only-of-type {\n",
       "        vertical-align: middle;\n",
       "    }\n",
       "\n",
       "    .dataframe tbody tr th {\n",
       "        vertical-align: top;\n",
       "    }\n",
       "\n",
       "    .dataframe thead th {\n",
       "        text-align: right;\n",
       "    }\n",
       "</style>\n",
       "<table border=\"1\" class=\"dataframe\">\n",
       "  <thead>\n",
       "    <tr style=\"text-align: right;\">\n",
       "      <th></th>\n",
       "      <th>longitude</th>\n",
       "      <th>latitude</th>\n",
       "      <th>housing_median_age</th>\n",
       "      <th>total_rooms</th>\n",
       "      <th>total_bedrooms</th>\n",
       "      <th>population</th>\n",
       "      <th>households</th>\n",
       "      <th>median_income</th>\n",
       "      <th>median_house_value</th>\n",
       "      <th>ocean_proximity</th>\n",
       "    </tr>\n",
       "  </thead>\n",
       "  <tbody>\n",
       "    <tr>\n",
       "      <th>0</th>\n",
       "      <td>-122.23</td>\n",
       "      <td>37.88</td>\n",
       "      <td>41.0</td>\n",
       "      <td>880.0</td>\n",
       "      <td>129.0</td>\n",
       "      <td>322.0</td>\n",
       "      <td>126.0</td>\n",
       "      <td>8.3252</td>\n",
       "      <td>452600.0</td>\n",
       "      <td>NEAR BAY</td>\n",
       "    </tr>\n",
       "    <tr>\n",
       "      <th>1</th>\n",
       "      <td>-122.22</td>\n",
       "      <td>37.86</td>\n",
       "      <td>21.0</td>\n",
       "      <td>7099.0</td>\n",
       "      <td>1106.0</td>\n",
       "      <td>2401.0</td>\n",
       "      <td>1138.0</td>\n",
       "      <td>8.3014</td>\n",
       "      <td>358500.0</td>\n",
       "      <td>NEAR BAY</td>\n",
       "    </tr>\n",
       "    <tr>\n",
       "      <th>2</th>\n",
       "      <td>-122.24</td>\n",
       "      <td>37.85</td>\n",
       "      <td>52.0</td>\n",
       "      <td>1467.0</td>\n",
       "      <td>190.0</td>\n",
       "      <td>496.0</td>\n",
       "      <td>177.0</td>\n",
       "      <td>7.2574</td>\n",
       "      <td>352100.0</td>\n",
       "      <td>NEAR BAY</td>\n",
       "    </tr>\n",
       "    <tr>\n",
       "      <th>3</th>\n",
       "      <td>-122.25</td>\n",
       "      <td>37.85</td>\n",
       "      <td>52.0</td>\n",
       "      <td>1274.0</td>\n",
       "      <td>235.0</td>\n",
       "      <td>558.0</td>\n",
       "      <td>219.0</td>\n",
       "      <td>5.6431</td>\n",
       "      <td>341300.0</td>\n",
       "      <td>NEAR BAY</td>\n",
       "    </tr>\n",
       "    <tr>\n",
       "      <th>4</th>\n",
       "      <td>-122.25</td>\n",
       "      <td>37.85</td>\n",
       "      <td>52.0</td>\n",
       "      <td>1627.0</td>\n",
       "      <td>280.0</td>\n",
       "      <td>565.0</td>\n",
       "      <td>259.0</td>\n",
       "      <td>3.8462</td>\n",
       "      <td>342200.0</td>\n",
       "      <td>NEAR BAY</td>\n",
       "    </tr>\n",
       "  </tbody>\n",
       "</table>\n",
       "</div>"
      ],
      "text/plain": [
       "   longitude  latitude  housing_median_age  total_rooms  total_bedrooms  \\\n",
       "0    -122.23     37.88                41.0        880.0           129.0   \n",
       "1    -122.22     37.86                21.0       7099.0          1106.0   \n",
       "2    -122.24     37.85                52.0       1467.0           190.0   \n",
       "3    -122.25     37.85                52.0       1274.0           235.0   \n",
       "4    -122.25     37.85                52.0       1627.0           280.0   \n",
       "\n",
       "   population  households  median_income  median_house_value ocean_proximity  \n",
       "0       322.0       126.0         8.3252            452600.0        NEAR BAY  \n",
       "1      2401.0      1138.0         8.3014            358500.0        NEAR BAY  \n",
       "2       496.0       177.0         7.2574            352100.0        NEAR BAY  \n",
       "3       558.0       219.0         5.6431            341300.0        NEAR BAY  \n",
       "4       565.0       259.0         3.8462            342200.0        NEAR BAY  "
      ]
     },
     "execution_count": 84,
     "metadata": {},
     "output_type": "execute_result"
    }
   ],
   "source": [
    "df.head()"
   ]
  },
  {
   "cell_type": "code",
   "execution_count": 85,
   "id": "b3bf3989-b727-4fbb-9828-98d9e7b53137",
   "metadata": {},
   "outputs": [
    {
     "data": {
      "text/plain": [
       "longitude               0\n",
       "latitude                0\n",
       "housing_median_age      0\n",
       "total_rooms             0\n",
       "total_bedrooms        207\n",
       "population              0\n",
       "households              0\n",
       "median_income           0\n",
       "median_house_value      0\n",
       "ocean_proximity         0\n",
       "dtype: int64"
      ]
     },
     "execution_count": 85,
     "metadata": {},
     "output_type": "execute_result"
    }
   ],
   "source": [
    "df.isnull().sum()"
   ]
  },
  {
   "cell_type": "code",
   "execution_count": 86,
   "id": "5cddb111-edc9-4aa4-b8bd-9cadee597221",
   "metadata": {},
   "outputs": [],
   "source": [
    "df.total_bedrooms = df.total_bedrooms.fillna(0)"
   ]
  },
  {
   "cell_type": "markdown",
   "id": "7c0c05f2-a0bd-4b97-b96e-0c1b205f21ac",
   "metadata": {},
   "source": [
    "\n",
    "\n",
    "    Apply the log transform to median_house_value.\n",
    "    Do train/validation/test split with 60%/20%/20% distribution.\n",
    "    Use the train_test_split function and set the random_state parameter to 1.\n",
    "\n"
   ]
  },
  {
   "cell_type": "code",
   "execution_count": 87,
   "id": "195d09a3-bfb5-455d-9d71-6efac8846329",
   "metadata": {},
   "outputs": [],
   "source": [
    "#@ SPLITTING THE DATASET FOR TRAINING AND TEST:\n",
    "df['log_house_value']=np.log1p(df.median_house_value)"
   ]
  },
  {
   "cell_type": "code",
   "execution_count": 88,
   "id": "16e55e44-62e8-43c3-a2ff-636092d4505e",
   "metadata": {},
   "outputs": [],
   "source": [
    "df_full_train,df_test=train_test_split(df,test_size=0.2,random_state=1)\n",
    "df_train,df_val=train_test_split(df_full_train,test_size=0.25,random_state=1)"
   ]
  },
  {
   "cell_type": "code",
   "execution_count": 89,
   "id": "782d711a-03c6-491c-935a-2c2c0b119220",
   "metadata": {},
   "outputs": [],
   "source": [
    "df_train=df_train.reset_index(drop=True)\n",
    "df_test=df_test.reset_index(drop=True)\n",
    "df_val=df_val.reset_index(drop=True)\n",
    "y_train=df_train.log_house_value.values\n",
    "y_test=df_test.log_house_value.values\n",
    "y_val=df_val.log_house_value.values"
   ]
  },
  {
   "cell_type": "code",
   "execution_count": 90,
   "id": "a5f5c027-d820-4a17-b83f-91a3971ea4d4",
   "metadata": {},
   "outputs": [],
   "source": [
    "del df_train['log_house_value']\n",
    "del df_test['log_house_value']\n",
    "del df_val['log_house_value']\n",
    "del df_train['median_house_value']\n",
    "del df_test['median_house_value']\n",
    "del df_val['median_house_value']"
   ]
  },
  {
   "cell_type": "markdown",
   "id": "902768bb-7801-473a-9323-92250ea345ca",
   "metadata": {},
   "source": [
    "We will use DictVectorizer to turn train and validation into matrices."
   ]
  },
  {
   "cell_type": "code",
   "execution_count": 91,
   "id": "dec4075e-baaf-41f1-996c-6834093918eb",
   "metadata": {},
   "outputs": [],
   "source": [
    "#@ IMPLEMENTATION OF DICTVECTORIZER:\n",
    "dv=DictVectorizer(sparse=False)"
   ]
  },
  {
   "cell_type": "code",
   "execution_count": 92,
   "id": "d9b5179e-3a7d-463a-bc35-2f0bc41ac8f1",
   "metadata": {},
   "outputs": [],
   "source": [
    "train_dict=df_train.to_dict(orient='records')\n",
    "val_dict=df_val.to_dict(orient='records')"
   ]
  },
  {
   "cell_type": "code",
   "execution_count": 93,
   "id": "52b00b9a-2be7-4eae-91f0-95499ac5606c",
   "metadata": {},
   "outputs": [],
   "source": [
    "X_train=dv.fit_transform(train_dict)\n",
    "X_val=dv.transform(val_dict)"
   ]
  },
  {
   "cell_type": "markdown",
   "id": "6e285b4e-0bdb-4047-a355-a91e47cd09a6",
   "metadata": {},
   "source": [
    "### Question 1\n",
    "\n",
    "Let's train a decision tree regressor to predict the median_house_value variable.\n",
    "\n",
    "Train a model with max_depth=1"
   ]
  },
  {
   "cell_type": "code",
   "execution_count": 94,
   "id": "cb98e288-0eea-46da-b528-b807c886c2d9",
   "metadata": {},
   "outputs": [],
   "source": [
    "dt=DecisionTreeRegressor(max_depth=1)"
   ]
  },
  {
   "cell_type": "code",
   "execution_count": 95,
   "id": "a828ad8f-e439-4f0d-aef9-0679123d77d8",
   "metadata": {},
   "outputs": [
    {
     "data": {
      "text/plain": [
       "DecisionTreeRegressor(max_depth=1)"
      ]
     },
     "execution_count": 95,
     "metadata": {},
     "output_type": "execute_result"
    }
   ],
   "source": [
    "dt.fit(X_train,y_train)"
   ]
  },
  {
   "cell_type": "code",
   "execution_count": 96,
   "id": "2aa7f335-c985-4c73-bd85-f55af2da3571",
   "metadata": {},
   "outputs": [
    {
     "name": "stdout",
     "output_type": "stream",
     "text": [
      "|--- ocean_proximity=INLAND <= 0.50\n",
      "|   |--- value: [12.31]\n",
      "|--- ocean_proximity=INLAND >  0.50\n",
      "|   |--- value: [11.61]\n",
      "\n"
     ]
    }
   ],
   "source": [
    "print(export_text(dt,feature_names=dv.get_feature_names()))"
   ]
  },
  {
   "cell_type": "markdown",
   "id": "5ed25973-ea51-4e34-97e4-56080bd773d9",
   "metadata": {},
   "source": [
    "\n",
    "\n",
    "    Which feature is used for splitting the data?\n",
    "\n",
    "    Answer: ocean_proximity=INLAND\n",
    "\n"
   ]
  },
  {
   "cell_type": "markdown",
   "id": "86ecdd47-ce69-4c8e-b4be-2d737ae4c792",
   "metadata": {},
   "source": [
    "\n",
    "\n",
    "### Question 2\n",
    "\n",
    "Train a random forest model with these parameters:\n",
    "\n",
    "    n_estimators=10\n",
    "    random_state=1\n",
    "    n_jobs=-1 (optional-to make training faster)\n",
    "\n"
   ]
  },
  {
   "cell_type": "code",
   "execution_count": 97,
   "id": "815bcc18-837f-42ca-97f9-c5e97d549910",
   "metadata": {},
   "outputs": [],
   "source": [
    "rf=RandomForestRegressor(n_estimators=10,random_state=1)"
   ]
  },
  {
   "cell_type": "code",
   "execution_count": 98,
   "id": "814349a5-81e8-4936-beb8-560f3024884e",
   "metadata": {},
   "outputs": [
    {
     "data": {
      "text/plain": [
       "RandomForestRegressor(n_estimators=10, random_state=1)"
      ]
     },
     "execution_count": 98,
     "metadata": {},
     "output_type": "execute_result"
    }
   ],
   "source": [
    "rf.fit(X_train,y_train)"
   ]
  },
  {
   "cell_type": "code",
   "execution_count": 99,
   "id": "a5cf1574-a706-45b6-b995-2c945604ec07",
   "metadata": {},
   "outputs": [
    {
     "data": {
      "text/plain": [
       "0.06038733337686411"
      ]
     },
     "execution_count": 99,
     "metadata": {},
     "output_type": "execute_result"
    }
   ],
   "source": [
    "y_pred=rf.predict(X_val)\n",
    "mean_squared_error(y_pred,y_val)"
   ]
  },
  {
   "cell_type": "markdown",
   "id": "2edf6f06-8e3b-4928-abc7-c23215abb496",
   "metadata": {},
   "source": [
    "\n",
    "\n",
    "    What's the RMSE of this model on validation?\n",
    "\n",
    "    Answer: 0.05\n",
    "\n"
   ]
  },
  {
   "cell_type": "markdown",
   "id": "e980af30-9109-471f-b61c-2b1ce36e8e4e",
   "metadata": {},
   "source": [
    "### Question 3\n",
    "\n",
    "Now let's experiment with the n_estimators parameter\n",
    "\n",
    "    Try different values of this parameter from 10 to 200 with step 10.\n",
    "    Set random_state to 1.\n",
    "    Evaluate the model on the validation dataset.\n",
    "\n",
    "After which value of n_estimators does RMSE stop improving?"
   ]
  },
  {
   "cell_type": "code",
   "execution_count": 100,
   "id": "b8ac1a06-561b-4c71-bba5-a84971832bf8",
   "metadata": {},
   "outputs": [],
   "source": [
    "scores=[]\n",
    "for c in range(10,201,10):\n",
    "    rf=RandomForestRegressor(n_estimators=c,random_state=1)\n",
    "    rf.fit(X_train,y_train)\n",
    "    y_pred=rf.predict(X_val)\n",
    "    score=mean_squared_error(y_pred,y_val)\n",
    "    scores.append((c,score))"
   ]
  },
  {
   "cell_type": "code",
   "execution_count": 101,
   "id": "1884ebae-c7c1-454f-8a46-e16f1e248b6f",
   "metadata": {},
   "outputs": [],
   "source": [
    "df_scores=pd.DataFrame(scores,columns=['n_estimators','RMSE'])"
   ]
  },
  {
   "cell_type": "code",
   "execution_count": 102,
   "id": "1111e249-cb48-45c2-8154-3d43a415d124",
   "metadata": {},
   "outputs": [
    {
     "data": {
      "text/plain": [
       "[<matplotlib.lines.Line2D at 0x1e560c4fe50>]"
      ]
     },
     "execution_count": 102,
     "metadata": {},
     "output_type": "execute_result"
    },
    {
     "data": {
      "image/png": "[encoded data removed]",
      "text/plain": [
       "<Figure size 432x288 with 1 Axes>"
      ]
     },
     "metadata": {
      "needs_background": "light"
     },
     "output_type": "display_data"
    }
   ],
   "source": [
    "plt.plot(df_scores.n_estimators,df_scores.RMSE)"
   ]
  },
  {
   "cell_type": "markdown",
   "id": "1d9e2b0a-2e02-455b-9ddc-36ed99f1835a",
   "metadata": {},
   "source": [
    "\n",
    "\n",
    "    After which value of n_estimators does RMSE stop improving?\n",
    "\n",
    "    Answer: 75\n",
    "\n"
   ]
  },
  {
   "cell_type": "markdown",
   "id": "6fecae0e-5f4d-4651-bdda-1dd15b749bff",
   "metadata": {},
   "source": [
    "\n",
    "\n",
    "### Question 4\n",
    "\n",
    "Let's select the best max_depth:\n",
    "\n",
    "    Try different values of max_depth: [10, 15, 20, 25].\n",
    "    For each of these values, try different values of n_estimators from 10 till 200 (with step 10).\n",
    "    Fix the random seed: random_state=1.\n",
    "\n"
   ]
  },
  {
   "cell_type": "code",
   "execution_count": 103,
   "id": "1bb4d5c6-38b0-4d07-9397-39bf9ee3a312",
   "metadata": {},
   "outputs": [],
   "source": [
    "scores=[]\n",
    "for c in [10, 15, 20, 25]:\n",
    "    rf=RandomForestRegressor(n_estimators=75,random_state=1,max_depth=c)\n",
    "    rf.fit(X_train,y_train)\n",
    "    y_pred=rf.predict(X_val)\n",
    "    score=mean_squared_error(y_pred,y_val)\n",
    "    scores.append((c,score))"
   ]
  },
  {
   "cell_type": "code",
   "execution_count": 104,
   "id": "e9a77795-e714-410a-a3d0-e6e12a6451ae",
   "metadata": {},
   "outputs": [
    {
     "data": {
      "text/plain": [
       "[<matplotlib.lines.Line2D at 0x1e560a78b50>]"
      ]
     },
     "execution_count": 104,
     "metadata": {},
     "output_type": "execute_result"
    },
    {
     "data": {
      "image/png": "[encoded data removed]",
      "text/plain": [
       "<Figure size 432x288 with 1 Axes>"
      ]
     },
     "metadata": {
      "needs_background": "light"
     },
     "output_type": "display_data"
    }
   ],
   "source": [
    "df_scores=pd.DataFrame(scores,columns=['max_depth','RMSE'])\n",
    "plt.plot(df_scores.max_depth,df_scores.RMSE)"
   ]
  },
  {
   "cell_type": "markdown",
   "id": "97ab698d-a639-439c-926e-c6e115bb6959",
   "metadata": {},
   "source": [
    "\n",
    "\n",
    "    What's the best max_depth:\n",
    "\n",
    "    Answer: 25\n",
    "\n"
   ]
  },
  {
   "cell_type": "markdown",
   "id": "9a2f7916-1868-426f-99e9-3c9b9966000e",
   "metadata": {},
   "source": [
    "\n",
    "\n",
    "### Question 5\n",
    "\n",
    "We can extract feature importance information from tree-based models.\n",
    "\n",
    "At each step of the decision tree learning algorith, it finds the best split. When doint it, we can calculate \"gain\" - the reduction in impurity before and after the split. This gain is quite useful in understanding what are the imporatant features for tree-based models.\n",
    "\n",
    "In Scikit-Learn, tree-based models contain this information in the feature_importances_ field.\n",
    "\n",
    "For this homework question, we'll find the most important feature:\n",
    "\n",
    "Train the model with these parametes:\n",
    "\n",
    "    n_estimators=10,\n",
    "    max_depth=20,\n",
    "    random_state=1,\n",
    "    n_jobs=-1 (optional)\n",
    "\n",
    "Get the feature importance information from this model\n"
   ]
  },
  {
   "cell_type": "code",
   "execution_count": 105,
   "id": "14f4ae09-edc1-46c9-863c-18cc5a6df04d",
   "metadata": {},
   "outputs": [
    {
     "data": {
      "text/plain": [
       "RandomForestRegressor(max_depth=20, n_estimators=10, n_jobs=-1, random_state=1)"
      ]
     },
     "execution_count": 105,
     "metadata": {},
     "output_type": "execute_result"
    }
   ],
   "source": [
    "rf=RandomForestRegressor(n_estimators=10,\n",
    "max_depth=20,\n",
    "random_state=1,\n",
    "n_jobs=-1)\n",
    "rf.fit(X_train,y_train)"
   ]
  },
  {
   "cell_type": "code",
   "execution_count": 106,
   "id": "0e10b133-e79c-40fa-a7c8-12c430f0e2d6",
   "metadata": {},
   "outputs": [],
   "source": [
    "feature_importances = pd.DataFrame(rf.feature_importances_, index =dv.get_feature_names(),  columns=['importance'])"
   ]
  },
  {
   "cell_type": "code",
   "execution_count": 107,
   "id": "9f4017ca-f4d2-45f6-bccc-f8ec58f76ca5",
   "metadata": {},
   "outputs": [
    {
     "data": {
      "text/html": [
       "<div>\n",
       "<style scoped>\n",
       "    .dataframe tbody tr th:only-of-type {\n",
       "        vertical-align: middle;\n",
       "    }\n",
       "\n",
       "    .dataframe tbody tr th {\n",
       "        vertical-align: top;\n",
       "    }\n",
       "\n",
       "    .dataframe thead th {\n",
       "        text-align: right;\n",
       "    }\n",
       "</style>\n",
       "<table border=\"1\" class=\"dataframe\">\n",
       "  <thead>\n",
       "    <tr style=\"text-align: right;\">\n",
       "      <th></th>\n",
       "      <th>importance</th>\n",
       "    </tr>\n",
       "  </thead>\n",
       "  <tbody>\n",
       "    <tr>\n",
       "      <th>median_income</th>\n",
       "      <td>0.362913</td>\n",
       "    </tr>\n",
       "    <tr>\n",
       "      <th>ocean_proximity=INLAND</th>\n",
       "      <td>0.310901</td>\n",
       "    </tr>\n",
       "    <tr>\n",
       "      <th>latitude</th>\n",
       "      <td>0.101334</td>\n",
       "    </tr>\n",
       "    <tr>\n",
       "      <th>longitude</th>\n",
       "      <td>0.096265</td>\n",
       "    </tr>\n",
       "    <tr>\n",
       "      <th>housing_median_age</th>\n",
       "      <td>0.033094</td>\n",
       "    </tr>\n",
       "    <tr>\n",
       "      <th>population</th>\n",
       "      <td>0.030918</td>\n",
       "    </tr>\n",
       "    <tr>\n",
       "      <th>total_rooms</th>\n",
       "      <td>0.020536</td>\n",
       "    </tr>\n",
       "    <tr>\n",
       "      <th>total_bedrooms</th>\n",
       "      <td>0.019041</td>\n",
       "    </tr>\n",
       "    <tr>\n",
       "      <th>households</th>\n",
       "      <td>0.016957</td>\n",
       "    </tr>\n",
       "    <tr>\n",
       "      <th>ocean_proximity=NEAR OCEAN</th>\n",
       "      <td>0.004228</td>\n",
       "    </tr>\n",
       "    <tr>\n",
       "      <th>ocean_proximity=&lt;1H OCEAN</th>\n",
       "      <td>0.003007</td>\n",
       "    </tr>\n",
       "    <tr>\n",
       "      <th>ocean_proximity=NEAR BAY</th>\n",
       "      <td>0.000449</td>\n",
       "    </tr>\n",
       "    <tr>\n",
       "      <th>ocean_proximity=ISLAND</th>\n",
       "      <td>0.000357</td>\n",
       "    </tr>\n",
       "  </tbody>\n",
       "</table>\n",
       "</div>"
      ],
      "text/plain": [
       "                            importance\n",
       "median_income                 0.362913\n",
       "ocean_proximity=INLAND        0.310901\n",
       "latitude                      0.101334\n",
       "longitude                     0.096265\n",
       "housing_median_age            0.033094\n",
       "population                    0.030918\n",
       "total_rooms                   0.020536\n",
       "total_bedrooms                0.019041\n",
       "households                    0.016957\n",
       "ocean_proximity=NEAR OCEAN    0.004228\n",
       "ocean_proximity=<1H OCEAN     0.003007\n",
       "ocean_proximity=NEAR BAY      0.000449\n",
       "ocean_proximity=ISLAND        0.000357"
      ]
     },
     "execution_count": 107,
     "metadata": {},
     "output_type": "execute_result"
    }
   ],
   "source": [
    "feature_importances.sort_values('importance',ascending=False)"
   ]
  },
  {
   "cell_type": "markdown",
   "id": "0a673214-2694-4ebb-8f09-964694bc1677",
   "metadata": {},
   "source": [
    "\n",
    "\n",
    "    What's the most important feature?\n",
    "\n",
    "    Answer: median_income\n",
    "\n"
   ]
  },
  {
   "cell_type": "markdown",
   "id": "d3ceeb02-c959-4fbf-912b-0f6577ee13e6",
   "metadata": {},
   "source": [
    "\n",
    "\n",
    "### Question 6\n",
    "\n",
    "Now let's train an XGBoost model! For this question, we'll tune the eta parameter:\n",
    "\n",
    "    Install XGBoost.\n",
    "    Create DMatrix for train and validation\n",
    "    Create a watchlist\n",
    "    Train a model with these parameters for 100 rounds:\n",
    "\n",
    "xgb_params = {  \n",
    "    'eta': 0.3,  \n",
    "    'max_depth': 6,  \n",
    "    'min_child_weight': 1,  \n",
    "\n",
    "    'objective': 'reg:squarederror',\n",
    "    'nthread': 8,\n",
    "\n",
    "    'seed': 1,\n",
    "    'verbosity': 1,\n",
    "}\n",
    "\n"
   ]
  },
  {
   "cell_type": "code",
   "execution_count": 108,
   "id": "858d9e7e-b1b3-4dc6-8fad-581a220f42d7",
   "metadata": {},
   "outputs": [],
   "source": [
    "#@ CREATING THE DMARTIX:\n",
    "features = dv.feature_names_\n",
    "\n",
    "regex = re.compile(r\"<\", re.IGNORECASE)\n",
    "features = [regex.sub(\"_\", col) if any(x in str(col) for x in set(('[', ']', '<'))) else col for col in features]\n",
    "\n",
    "dtrain = xgb.DMatrix(X_train, label=y_train, feature_names=features)\n",
    "dval = xgb.DMatrix(X_val, label=y_val, feature_names=features)"
   ]
  },
  {
   "cell_type": "code",
   "execution_count": 109,
   "id": "77c4fcc2-0150-426c-9908-cd9072479af3",
   "metadata": {},
   "outputs": [
    {
     "data": {
      "text/plain": [
       "0.05111930390108557"
      ]
     },
     "execution_count": 109,
     "metadata": {},
     "output_type": "execute_result"
    }
   ],
   "source": [
    "xgb_param = {\n",
    "'eta': 0.3,\n",
    "'max_depth': 6,\n",
    "'min_child_weight': 1,\n",
    "\n",
    "'objective': 'reg:squarederror',\n",
    "'nthread': 8,\n",
    "\n",
    "'seed': 1,\n",
    "'verbosity': 1,\n",
    "\n",
    "}\n",
    "model=xgb.train(xgb_param,dtrain,num_boost_round=100)\n",
    "y_pred=model.predict(dval)\n",
    "mean_squared_error(y_pred,y_val)"
   ]
  },
  {
   "cell_type": "markdown",
   "id": "46966be0-db9e-4270-9cd0-893d699ae36d",
   "metadata": {},
   "source": [
    "Now, change eta from 0.3 to 0.1"
   ]
  },
  {
   "cell_type": "code",
   "execution_count": 110,
   "id": "8c2b1859-5adf-401d-b982-7f58d2cbb23f",
   "metadata": {},
   "outputs": [
    {
     "data": {
      "text/plain": [
       "0.05314943034462633"
      ]
     },
     "execution_count": 110,
     "metadata": {},
     "output_type": "execute_result"
    }
   ],
   "source": [
    "xgb_param = {\n",
    "'eta': 0.1,\n",
    "'max_depth': 6,\n",
    "'min_child_weight': 1,\n",
    "\n",
    "'objective': 'reg:squarederror',\n",
    "'nthread': 8,\n",
    "\n",
    "'seed': 1,\n",
    "'verbosity': 1,\n",
    "\n",
    "}\n",
    "model=xgb.train(xgb_param,dtrain,num_boost_round=100)\n",
    "y_pred=model.predict(dval)\n",
    "mean_squared_error(y_pred,y_val)"
   ]
  },
  {
   "cell_type": "markdown",
   "id": "7f748323-3a09-40a3-88be-d15498a1ef04",
   "metadata": {},
   "source": [
    "\n",
    "\n",
    "    Which eta leads to the best RMSE score on the validation dataset?\n",
    "\n",
    "    Answer: 0.3\n",
    "\n"
   ]
  }
 ],
 "metadata": {
  "kernelspec": {
   "display_name": "Python 3",
   "language": "python",
   "name": "python3"
  },
  "language_info": {
   "codemirror_mode": {
    "name": "ipython",
    "version": 3
   },
   "file_extension": ".py",
   "mimetype": "text/x-python",
   "name": "python",
   "nbconvert_exporter": "python",
   "pygments_lexer": "ipython3",
   "version": "3.8.8"
  }
 },
 "nbformat": 4,
 "nbformat_minor": 5
}
