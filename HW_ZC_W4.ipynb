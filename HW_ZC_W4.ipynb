{
 "cells": [
  {
   "cell_type": "code",
   "execution_count": 1,
   "id": "078c0469-9bda-454f-9e55-da556f6fbb9b",
   "metadata": {},
   "outputs": [],
   "source": [
    "import numpy as np\n",
    "import pandas as pd\n",
    "import matplotlib.pyplot as plt"
   ]
  },
  {
   "cell_type": "markdown",
   "id": "a407fd6c-3cd2-400e-ba05-2d017679a72e",
   "metadata": {},
   "source": [
    "## Dataset"
   ]
  },
  {
   "cell_type": "code",
   "execution_count": 2,
   "id": "f99bdcc0-da09-4643-81c3-81ef5112fa6e",
   "metadata": {},
   "outputs": [],
   "source": [
    "df=pd.read_csv('https://raw.githubusercontent.com/alexeygrigorev/datasets/master/AER_credit_card_data.csv')"
   ]
  },
  {
   "cell_type": "code",
   "execution_count": 3,
   "id": "582f853c-845c-46bd-b3e6-749212a2183a",
   "metadata": {},
   "outputs": [
    {
     "data": {
      "text/html": [
       "<div>\n",
       "<style scoped>\n",
       "    .dataframe tbody tr th:only-of-type {\n",
       "        vertical-align: middle;\n",
       "    }\n",
       "\n",
       "    .dataframe tbody tr th {\n",
       "        vertical-align: top;\n",
       "    }\n",
       "\n",
       "    .dataframe thead th {\n",
       "        text-align: right;\n",
       "    }\n",
       "</style>\n",
       "<table border=\"1\" class=\"dataframe\">\n",
       "  <thead>\n",
       "    <tr style=\"text-align: right;\">\n",
       "      <th></th>\n",
       "      <th>card</th>\n",
       "      <th>reports</th>\n",
       "      <th>age</th>\n",
       "      <th>income</th>\n",
       "      <th>share</th>\n",
       "      <th>expenditure</th>\n",
       "      <th>owner</th>\n",
       "      <th>selfemp</th>\n",
       "      <th>dependents</th>\n",
       "      <th>months</th>\n",
       "      <th>majorcards</th>\n",
       "      <th>active</th>\n",
       "    </tr>\n",
       "  </thead>\n",
       "  <tbody>\n",
       "    <tr>\n",
       "      <th>0</th>\n",
       "      <td>yes</td>\n",
       "      <td>0</td>\n",
       "      <td>37.66667</td>\n",
       "      <td>4.5200</td>\n",
       "      <td>0.033270</td>\n",
       "      <td>124.983300</td>\n",
       "      <td>yes</td>\n",
       "      <td>no</td>\n",
       "      <td>3</td>\n",
       "      <td>54</td>\n",
       "      <td>1</td>\n",
       "      <td>12</td>\n",
       "    </tr>\n",
       "    <tr>\n",
       "      <th>1</th>\n",
       "      <td>yes</td>\n",
       "      <td>0</td>\n",
       "      <td>33.25000</td>\n",
       "      <td>2.4200</td>\n",
       "      <td>0.005217</td>\n",
       "      <td>9.854167</td>\n",
       "      <td>no</td>\n",
       "      <td>no</td>\n",
       "      <td>3</td>\n",
       "      <td>34</td>\n",
       "      <td>1</td>\n",
       "      <td>13</td>\n",
       "    </tr>\n",
       "    <tr>\n",
       "      <th>2</th>\n",
       "      <td>yes</td>\n",
       "      <td>0</td>\n",
       "      <td>33.66667</td>\n",
       "      <td>4.5000</td>\n",
       "      <td>0.004156</td>\n",
       "      <td>15.000000</td>\n",
       "      <td>yes</td>\n",
       "      <td>no</td>\n",
       "      <td>4</td>\n",
       "      <td>58</td>\n",
       "      <td>1</td>\n",
       "      <td>5</td>\n",
       "    </tr>\n",
       "    <tr>\n",
       "      <th>3</th>\n",
       "      <td>yes</td>\n",
       "      <td>0</td>\n",
       "      <td>30.50000</td>\n",
       "      <td>2.5400</td>\n",
       "      <td>0.065214</td>\n",
       "      <td>137.869200</td>\n",
       "      <td>no</td>\n",
       "      <td>no</td>\n",
       "      <td>0</td>\n",
       "      <td>25</td>\n",
       "      <td>1</td>\n",
       "      <td>7</td>\n",
       "    </tr>\n",
       "    <tr>\n",
       "      <th>4</th>\n",
       "      <td>yes</td>\n",
       "      <td>0</td>\n",
       "      <td>32.16667</td>\n",
       "      <td>9.7867</td>\n",
       "      <td>0.067051</td>\n",
       "      <td>546.503300</td>\n",
       "      <td>yes</td>\n",
       "      <td>no</td>\n",
       "      <td>2</td>\n",
       "      <td>64</td>\n",
       "      <td>1</td>\n",
       "      <td>5</td>\n",
       "    </tr>\n",
       "  </tbody>\n",
       "</table>\n",
       "</div>"
      ],
      "text/plain": [
       "  card  reports       age  income     share  expenditure owner selfemp  \\\n",
       "0  yes        0  37.66667  4.5200  0.033270   124.983300   yes      no   \n",
       "1  yes        0  33.25000  2.4200  0.005217     9.854167    no      no   \n",
       "2  yes        0  33.66667  4.5000  0.004156    15.000000   yes      no   \n",
       "3  yes        0  30.50000  2.5400  0.065214   137.869200    no      no   \n",
       "4  yes        0  32.16667  9.7867  0.067051   546.503300   yes      no   \n",
       "\n",
       "   dependents  months  majorcards  active  \n",
       "0           3      54           1      12  \n",
       "1           3      34           1      13  \n",
       "2           4      58           1       5  \n",
       "3           0      25           1       7  \n",
       "4           2      64           1       5  "
      ]
     },
     "execution_count": 3,
     "metadata": {},
     "output_type": "execute_result"
    }
   ],
   "source": [
    "df.head()"
   ]
  },
  {
   "cell_type": "code",
   "execution_count": 4,
   "id": "280a6ed1-4e31-4679-a5fd-989694a4d684",
   "metadata": {},
   "outputs": [
    {
     "data": {
      "text/plain": [
       "(1319, 12)"
      ]
     },
     "execution_count": 4,
     "metadata": {},
     "output_type": "execute_result"
    }
   ],
   "source": [
    "df.shape"
   ]
  },
  {
   "cell_type": "markdown",
   "id": "fdf48da9-0dcd-490a-b7a3-d76350974fdd",
   "metadata": {},
   "source": [
    "## Preparation"
   ]
  },
  {
   "cell_type": "code",
   "execution_count": 5,
   "id": "33452c81-b53f-4208-b58e-a64acc298000",
   "metadata": {},
   "outputs": [],
   "source": [
    "df['card_num']=(df.card=='yes').astype(int)"
   ]
  },
  {
   "cell_type": "code",
   "execution_count": 6,
   "id": "311b678b-622a-49a3-a71d-b7f9e7c304d7",
   "metadata": {},
   "outputs": [],
   "source": [
    "from sklearn.model_selection import train_test_split"
   ]
  },
  {
   "cell_type": "code",
   "execution_count": 7,
   "id": "4c8151e7-2a6e-4ff8-8e18-d58e5178ea04",
   "metadata": {},
   "outputs": [],
   "source": [
    "df_full_train,df_test=train_test_split(df,random_state=1,test_size=0.2)\n",
    "df_train,df_val=train_test_split(df_full_train,random_state=1,test_size=0.25)"
   ]
  },
  {
   "cell_type": "code",
   "execution_count": 8,
   "id": "52a8f104-f5bf-458d-9ddd-3c474354cff2",
   "metadata": {},
   "outputs": [
    {
     "data": {
      "text/plain": [
       "(791, 264, 264)"
      ]
     },
     "execution_count": 8,
     "metadata": {},
     "output_type": "execute_result"
    }
   ],
   "source": [
    "len(df_train),len(df_val),len(df_test)"
   ]
  },
  {
   "cell_type": "code",
   "execution_count": 9,
   "id": "b64703ac-373a-492c-ac80-6a4cc19495b8",
   "metadata": {},
   "outputs": [],
   "source": [
    "y_full_train=df_full_train.card_num.values\n",
    "y_train=df_train.card_num.values\n",
    "y_test=df_test.card_num.values\n",
    "y_val=df_val.card_num.values"
   ]
  },
  {
   "cell_type": "code",
   "execution_count": 10,
   "id": "6163c640-7e57-47aa-9914-b6a2dd907d24",
   "metadata": {},
   "outputs": [],
   "source": [
    "del df_train['card_num']\n",
    "del df_train['card']\n",
    "del df_test['card_num']\n",
    "del df_test['card']\n",
    "del df_val['card_num']\n",
    "del df_val['card']"
   ]
  },
  {
   "cell_type": "markdown",
   "id": "092f06ea-0415-46c2-88b0-ab238efbb0d2",
   "metadata": {},
   "source": [
    "## Question 1\n",
    "\n",
    "Which numerical variable (among the following 4) has the highest AUC?"
   ]
  },
  {
   "cell_type": "code",
   "execution_count": 11,
   "id": "457a23e1-d43a-4b76-a911-e9447da45a3f",
   "metadata": {},
   "outputs": [
    {
     "data": {
      "text/plain": [
       "card            object\n",
       "reports          int64\n",
       "age            float64\n",
       "income         float64\n",
       "share          float64\n",
       "expenditure    float64\n",
       "owner           object\n",
       "selfemp         object\n",
       "dependents       int64\n",
       "months           int64\n",
       "majorcards       int64\n",
       "active           int64\n",
       "card_num         int32\n",
       "dtype: object"
      ]
     },
     "execution_count": 11,
     "metadata": {},
     "output_type": "execute_result"
    }
   ],
   "source": [
    "df.dtypes"
   ]
  },
  {
   "cell_type": "code",
   "execution_count": 12,
   "id": "4d33ed15-9014-4d23-a69e-cda20b8f1d30",
   "metadata": {},
   "outputs": [],
   "source": [
    "numerical=['reports','age','income','share','expenditure','dependents','months','active']"
   ]
  },
  {
   "cell_type": "code",
   "execution_count": 13,
   "id": "1490962b-65bd-4ed4-899d-f02799778a94",
   "metadata": {},
   "outputs": [],
   "source": [
    "from sklearn.metrics import roc_curve\n",
    "from sklearn.metrics import auc"
   ]
  },
  {
   "cell_type": "code",
   "execution_count": 14,
   "id": "8a79b9b1-908e-4034-9779-824eb8ae8f1a",
   "metadata": {},
   "outputs": [
    {
     "name": "stdout",
     "output_type": "stream",
     "text": [
      "- reports 0.7167\n",
      "- age 0.524\n",
      "+ income 0.5908\n",
      "+ share 0.9892\n",
      "+ expenditure 0.991\n",
      "- dependents 0.5328\n",
      "- months 0.5294\n",
      "+ active 0.6043\n"
     ]
    }
   ],
   "source": [
    "for col in numerical:\n",
    "    fpr, tpr, thresholds= roc_curve(y_train,df_train[col])\n",
    "    if auc(fpr,tpr)<0.5:\n",
    "        fpr, tpr, thresholds= roc_curve(y_train,-df_train[col])\n",
    "        print('-',col,round(auc(fpr,tpr),4))\n",
    "    else:\n",
    "        print('+',col,round(auc(fpr,tpr),4))"
   ]
  },
  {
   "cell_type": "markdown",
   "id": "7a0308c5-50f3-4f2a-93f5-92e14423403c",
   "metadata": {},
   "source": [
    "**Highest AUC is share**"
   ]
  },
  {
   "cell_type": "markdown",
   "id": "ed1ef8ad-121f-4534-9892-90fa88766b95",
   "metadata": {},
   "source": [
    "## Training the model"
   ]
  },
  {
   "cell_type": "code",
   "execution_count": 15,
   "id": "c532e49c-0703-405d-9279-8dd975e02f65",
   "metadata": {},
   "outputs": [],
   "source": [
    "colu= [\"reports\", \"age\", \"income\", \"share\", \"expenditure\", \"dependents\", \"months\", \"majorcards\", \"active\", \"owner\", \"selfemp\"]"
   ]
  },
  {
   "cell_type": "code",
   "execution_count": 16,
   "id": "1d94d227-cead-4774-b559-f47565c98636",
   "metadata": {},
   "outputs": [],
   "source": [
    "from sklearn.feature_extraction import DictVectorizer"
   ]
  },
  {
   "cell_type": "code",
   "execution_count": 17,
   "id": "4a22e8d1-bc9c-4e12-8f49-f5cfb90e26f0",
   "metadata": {},
   "outputs": [],
   "source": [
    "dv=DictVectorizer(sparse=False)"
   ]
  },
  {
   "cell_type": "code",
   "execution_count": 18,
   "id": "870a1397-c047-4c94-ba0d-3fdbfd0e5ed4",
   "metadata": {},
   "outputs": [],
   "source": [
    "train_dict=df_train[colu].to_dict(orient='records')\n",
    "X_train=dv.fit_transform(train_dict)"
   ]
  },
  {
   "cell_type": "code",
   "execution_count": 19,
   "id": "ae66f388-31f0-480a-8342-b6fb8326b89b",
   "metadata": {},
   "outputs": [],
   "source": [
    "from sklearn.linear_model import LogisticRegression"
   ]
  },
  {
   "cell_type": "code",
   "execution_count": 20,
   "id": "2c212122-bc2f-41ff-9676-4047078ad4b3",
   "metadata": {},
   "outputs": [],
   "source": [
    "model=LogisticRegression(solver='liblinear', C=1.0, max_iter=1000)"
   ]
  },
  {
   "cell_type": "code",
   "execution_count": 21,
   "id": "2fe2600e-06d5-4e64-868d-53b2933cab43",
   "metadata": {},
   "outputs": [
    {
     "data": {
      "text/plain": [
       "LogisticRegression(max_iter=1000, solver='liblinear')"
      ]
     },
     "execution_count": 21,
     "metadata": {},
     "output_type": "execute_result"
    }
   ],
   "source": [
    "model.fit(X_train,y_train)"
   ]
  },
  {
   "cell_type": "code",
   "execution_count": 22,
   "id": "df016588-cb2f-4cc7-a4b2-bf86cc2a1b2f",
   "metadata": {},
   "outputs": [],
   "source": [
    "val_dict=df_val[colu].to_dict(orient='records')\n",
    "X_val=dv.transform(val_dict)\n",
    "y_pred=model.predict_proba(X_val)[:,1]"
   ]
  },
  {
   "cell_type": "markdown",
   "id": "28354198-04bf-41a5-92cf-856710fc8003",
   "metadata": {},
   "source": [
    "## Question 2\n",
    "\n",
    "What's the AUC of this model on the validation dataset? (round to 3 digits)"
   ]
  },
  {
   "cell_type": "code",
   "execution_count": 23,
   "id": "ea7e8ea2-f82f-4cc2-9881-bdcd9d114412",
   "metadata": {},
   "outputs": [
    {
     "name": "stdout",
     "output_type": "stream",
     "text": [
      "AUC for model is 0.995\n"
     ]
    }
   ],
   "source": [
    "from sklearn.metrics import roc_auc_score\n",
    "print ('AUC for model is',round(roc_auc_score(y_val,y_pred),3))"
   ]
  },
  {
   "cell_type": "markdown",
   "id": "5edd7fda-5f99-4d06-9437-247e940aff86",
   "metadata": {},
   "source": [
    "## Question 3\n",
    "\n",
    "At which threshold precision and recall curves intersect?"
   ]
  },
  {
   "cell_type": "code",
   "execution_count": 24,
   "id": "5adfaabb-580d-4962-9042-176f7b2ed4c3",
   "metadata": {},
   "outputs": [],
   "source": [
    "prec=[]\n",
    "rec=[]\n",
    "for i in np.linspace(0,0.99,100):\n",
    "    dec=(y_pred>i).astype(int)\n",
    "    tp=((dec==1) & (y_val==1)).sum()\n",
    "    fp=((dec==1) & (y_val==0)).sum()\n",
    "    fn=((dec==0) & (y_val==1)).sum()\n",
    "    p= tp/(tp+fp)\n",
    "    prec.append(p)\n",
    "    r=tp/(tp+fn)\n",
    "    rec.append(r)"
   ]
  },
  {
   "cell_type": "code",
   "execution_count": 25,
   "id": "4faa6491-c1ef-4c5a-b6d9-3331dc2fb9c1",
   "metadata": {},
   "outputs": [
    {
     "data": {
      "text/plain": [
       "[<matplotlib.lines.Line2D at 0x18c6abd11f0>]"
      ]
     },
     "execution_count": 25,
     "metadata": {},
     "output_type": "execute_result"
    },
    {
     "data": {
      "image/png": "[encoded data removed]",
      "text/plain": [
       "<Figure size 432x288 with 1 Axes>"
      ]
     },
     "metadata": {
      "needs_background": "light"
     },
     "output_type": "display_data"
    }
   ],
   "source": [
    "plt.plot(np.linspace(0,0.99,100),prec)\n",
    "plt.plot(np.linspace(0,0.99,100),rec)"
   ]
  },
  {
   "cell_type": "markdown",
   "id": "44ee4446-fdc8-4b5f-aa1e-fa6e038c18b9",
   "metadata": {},
   "source": [
    "**Curve meet at 0.3**"
   ]
  },
  {
   "cell_type": "markdown",
   "id": "4628b99f-0d21-464b-bb24-d954a628f060",
   "metadata": {},
   "source": [
    "## Question 4"
   ]
  },
  {
   "cell_type": "code",
   "execution_count": 26,
   "id": "4fbeebfa-4cf8-43c4-8b0e-ff3aefa932cb",
   "metadata": {},
   "outputs": [
    {
     "data": {
      "text/plain": [
       "[<matplotlib.lines.Line2D at 0x18c6acb50a0>]"
      ]
     },
     "execution_count": 26,
     "metadata": {},
     "output_type": "execute_result"
    },
    {
     "data": {
      "image/png": "[encoded data removed]",
      "text/plain": [
       "<Figure size 432x288 with 1 Axes>"
      ]
     },
     "metadata": {
      "needs_background": "light"
     },
     "output_type": "display_data"
    }
   ],
   "source": [
    "prec=[]\n",
    "rec=[]\n",
    "F1=[]\n",
    "for i in np.linspace(0,0.99,100):\n",
    "    dec=(y_pred>i).astype(int)\n",
    "    tp=((dec==1) & (y_val==1)).sum()\n",
    "    fp=((dec==1) & (y_val==0)).sum()\n",
    "    fn=((dec==0) & (y_val==1)).sum()\n",
    "    p= tp/(tp+fp)\n",
    "    prec.append(p)\n",
    "    r=tp/(tp+fn)\n",
    "    rec.append(r)\n",
    "    f1 = 2 * p * r / (p + r)\n",
    "    F1.append(f1)\n",
    "plt.plot(np.linspace(0,0.99,100),F1)"
   ]
  },
  {
   "cell_type": "markdown",
   "id": "68323022-0476-430b-a840-adac0c66c37e",
   "metadata": {},
   "source": [
    "**F1 is max at 0.4**"
   ]
  },
  {
   "cell_type": "markdown",
   "id": "78197681-7aa2-42ee-ad30-a1dfff3a750c",
   "metadata": {},
   "source": [
    "## Question 5\n",
    "\n",
    "How large is standard devidation of the AUC scores across different folds?"
   ]
  },
  {
   "cell_type": "code",
   "execution_count": 27,
   "id": "abb7c061-c3fe-4aa4-8c89-f6ebee03a67e",
   "metadata": {},
   "outputs": [],
   "source": [
    "from sklearn.model_selection import KFold"
   ]
  },
  {
   "cell_type": "code",
   "execution_count": 28,
   "id": "2df04de1-c296-450d-bb4f-ca72f1ac9c26",
   "metadata": {},
   "outputs": [],
   "source": [
    "kfold=KFold(n_splits=5, shuffle=True, random_state=1)"
   ]
  },
  {
   "cell_type": "code",
   "execution_count": 29,
   "id": "3663ef59-f54d-4201-b257-e06ff63cdf99",
   "metadata": {},
   "outputs": [],
   "source": [
    "scores=[]\n",
    "for train_idx,val_idx in kfold.split(df_full_train):\n",
    "    df_train=df_full_train[colu].iloc[train_idx]\n",
    "    df_val=df_full_train[colu].iloc[val_idx]\n",
    "    y_train=df_full_train['card_num'].iloc[train_idx].values\n",
    "    y_val=df_full_train['card_num'].iloc[val_idx].values\n",
    "    train_dict=df_train.to_dict(orient='records')\n",
    "    val_dict=df_val.to_dict(orient='records')\n",
    "    X_train=dv.fit_transform(train_dict)\n",
    "    X_val=dv.transform(val_dict)\n",
    "    model=LogisticRegression(solver='liblinear', C=1.0, max_iter=1000)\n",
    "    model.fit(X_train,y_train)\n",
    "    y_pred=model.predict_proba(X_val)[:,1]\n",
    "    score=roc_auc_score(y_val,y_pred)\n",
    "    scores.append(score)"
   ]
  },
  {
   "cell_type": "code",
   "execution_count": 42,
   "id": "30346a77-0a34-44a7-b346-d950f1c9d3d7",
   "metadata": {},
   "outputs": [
    {
     "name": "stdout",
     "output_type": "stream",
     "text": [
      "standard deviation is 0.003\n"
     ]
    }
   ],
   "source": [
    "print('standard deviation is',round(np.std(scores),3))"
   ]
  },
  {
   "cell_type": "markdown",
   "id": "19c7d1de-ff07-4244-a74c-65062e3ebbcd",
   "metadata": {},
   "source": [
    "## Question 6\n",
    "Which C leads to the best mean score?"
   ]
  },
  {
   "cell_type": "code",
   "execution_count": 41,
   "id": "2d8488be-7150-467f-93dd-a96525620798",
   "metadata": {},
   "outputs": [],
   "source": [
    "C=[0.01, 0.1, 1, 10]"
   ]
  },
  {
   "cell_type": "code",
   "execution_count": 46,
   "id": "36defab2-cf81-4a35-8299-b7e3a4fb83eb",
   "metadata": {},
   "outputs": [
    {
     "name": "stdout",
     "output_type": "stream",
     "text": [
      "C = 0.01\n",
      "mean score = 0.992\n",
      "standard dev = 0.006\n",
      "\n",
      "C = 0.1\n",
      "mean score = 0.995\n",
      "standard dev = 0.004\n",
      "\n",
      "C = 1\n",
      "mean score = 0.996\n",
      "standard dev = 0.003\n",
      "\n",
      "C = 10\n",
      "mean score = 0.996\n",
      "standard dev = 0.003\n",
      "\n"
     ]
    }
   ],
   "source": [
    "\n",
    "for c in C:\n",
    "    kfold=KFold(n_splits=5, shuffle=True, random_state=1)\n",
    "    scores=[]\n",
    "    for train_idx,val_idx in kfold.split(df_full_train):\n",
    "        df_train=df_full_train[colu].iloc[train_idx]\n",
    "        df_val=df_full_train[colu].iloc[val_idx]\n",
    "        y_train=df_full_train['card_num'].iloc[train_idx].values\n",
    "        y_val=df_full_train['card_num'].iloc[val_idx].values\n",
    "        train_dict=df_train.to_dict(orient='records')\n",
    "        val_dict=df_val.to_dict(orient='records')\n",
    "        X_train=dv.fit_transform(train_dict)\n",
    "        X_val=dv.transform(val_dict)\n",
    "        model=LogisticRegression(solver='liblinear', C=c, max_iter=1000)\n",
    "        model.fit(X_train,y_train)\n",
    "        y_pred=model.predict_proba(X_val)[:,1]\n",
    "        score=roc_auc_score(y_val,y_pred)\n",
    "        scores.append(score)\n",
    "    print('C =', c)\n",
    "    print('mean score =', round(np.mean(scores),3))\n",
    "    print('standard dev =', round(np.std(scores),3))\n",
    "    print()"
   ]
  },
  {
   "cell_type": "markdown",
   "id": "cbaf5a12-556e-4238-8891-767dd6328b46",
   "metadata": {},
   "source": [
    "**C with min mean score is 0.01**"
   ]
  },
  {
   "cell_type": "code",
   "execution_count": null,
   "id": "bddf03e9-a3ae-40ca-9432-c14d434c4dc3",
   "metadata": {},
   "outputs": [],
   "source": []
  }
 ],
 "metadata": {
  "kernelspec": {
   "display_name": "Python 3",
   "language": "python",
   "name": "python3"
  },
  "language_info": {
   "codemirror_mode": {
    "name": "ipython",
    "version": 3
   },
   "file_extension": ".py",
   "mimetype": "text/x-python",
   "name": "python",
   "nbconvert_exporter": "python",
   "pygments_lexer": "ipython3",
   "version": "3.8.8"
  }
 },
 "nbformat": 4,
 "nbformat_minor": 5
}
