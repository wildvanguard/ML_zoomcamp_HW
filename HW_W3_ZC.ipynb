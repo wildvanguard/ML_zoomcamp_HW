{
 "cells": [
  {
   "cell_type": "code",
   "execution_count": 256,
   "id": "ca9bbf49-5d24-4499-8a4c-a8956d9cd45c",
   "metadata": {},
   "outputs": [],
   "source": [
    "import pandas as pd\n",
    "import numpy as np"
   ]
  },
  {
   "cell_type": "markdown",
   "id": "e76baacd-84e8-45df-91da-ae0929208c5a",
   "metadata": {},
   "source": [
    "## dataset"
   ]
  },
  {
   "cell_type": "code",
   "execution_count": 257,
   "id": "958c3e23-50b0-41aa-b752-fcafd700350e",
   "metadata": {},
   "outputs": [],
   "source": [
    "df=pd.read_csv('https://raw.githubusercontent.com/alexeygrigorev/datasets/master/housing.csv')"
   ]
  },
  {
   "cell_type": "code",
   "execution_count": 258,
   "id": "bfdf4c3e-4a69-4741-94fe-0a4e8b35b60f",
   "metadata": {},
   "outputs": [
    {
     "data": {
      "text/plain": [
       "(20640, 10)"
      ]
     },
     "execution_count": 258,
     "metadata": {},
     "output_type": "execute_result"
    }
   ],
   "source": [
    "df.shape"
   ]
  },
  {
   "cell_type": "code",
   "execution_count": 259,
   "id": "67c83af1-d7b0-4aee-b05f-26be7e328044",
   "metadata": {},
   "outputs": [
    {
     "data": {
      "text/html": [
       "<div>\n",
       "<style scoped>\n",
       "    .dataframe tbody tr th:only-of-type {\n",
       "        vertical-align: middle;\n",
       "    }\n",
       "\n",
       "    .dataframe tbody tr th {\n",
       "        vertical-align: top;\n",
       "    }\n",
       "\n",
       "    .dataframe thead th {\n",
       "        text-align: right;\n",
       "    }\n",
       "</style>\n",
       "<table border=\"1\" class=\"dataframe\">\n",
       "  <thead>\n",
       "    <tr style=\"text-align: right;\">\n",
       "      <th></th>\n",
       "      <th>longitude</th>\n",
       "      <th>latitude</th>\n",
       "      <th>housing_median_age</th>\n",
       "      <th>total_rooms</th>\n",
       "      <th>total_bedrooms</th>\n",
       "      <th>population</th>\n",
       "      <th>households</th>\n",
       "      <th>median_income</th>\n",
       "      <th>median_house_value</th>\n",
       "      <th>ocean_proximity</th>\n",
       "    </tr>\n",
       "  </thead>\n",
       "  <tbody>\n",
       "    <tr>\n",
       "      <th>0</th>\n",
       "      <td>-122.23</td>\n",
       "      <td>37.88</td>\n",
       "      <td>41.0</td>\n",
       "      <td>880.0</td>\n",
       "      <td>129.0</td>\n",
       "      <td>322.0</td>\n",
       "      <td>126.0</td>\n",
       "      <td>8.3252</td>\n",
       "      <td>452600.0</td>\n",
       "      <td>NEAR BAY</td>\n",
       "    </tr>\n",
       "    <tr>\n",
       "      <th>1</th>\n",
       "      <td>-122.22</td>\n",
       "      <td>37.86</td>\n",
       "      <td>21.0</td>\n",
       "      <td>7099.0</td>\n",
       "      <td>1106.0</td>\n",
       "      <td>2401.0</td>\n",
       "      <td>1138.0</td>\n",
       "      <td>8.3014</td>\n",
       "      <td>358500.0</td>\n",
       "      <td>NEAR BAY</td>\n",
       "    </tr>\n",
       "    <tr>\n",
       "      <th>2</th>\n",
       "      <td>-122.24</td>\n",
       "      <td>37.85</td>\n",
       "      <td>52.0</td>\n",
       "      <td>1467.0</td>\n",
       "      <td>190.0</td>\n",
       "      <td>496.0</td>\n",
       "      <td>177.0</td>\n",
       "      <td>7.2574</td>\n",
       "      <td>352100.0</td>\n",
       "      <td>NEAR BAY</td>\n",
       "    </tr>\n",
       "    <tr>\n",
       "      <th>3</th>\n",
       "      <td>-122.25</td>\n",
       "      <td>37.85</td>\n",
       "      <td>52.0</td>\n",
       "      <td>1274.0</td>\n",
       "      <td>235.0</td>\n",
       "      <td>558.0</td>\n",
       "      <td>219.0</td>\n",
       "      <td>5.6431</td>\n",
       "      <td>341300.0</td>\n",
       "      <td>NEAR BAY</td>\n",
       "    </tr>\n",
       "    <tr>\n",
       "      <th>4</th>\n",
       "      <td>-122.25</td>\n",
       "      <td>37.85</td>\n",
       "      <td>52.0</td>\n",
       "      <td>1627.0</td>\n",
       "      <td>280.0</td>\n",
       "      <td>565.0</td>\n",
       "      <td>259.0</td>\n",
       "      <td>3.8462</td>\n",
       "      <td>342200.0</td>\n",
       "      <td>NEAR BAY</td>\n",
       "    </tr>\n",
       "  </tbody>\n",
       "</table>\n",
       "</div>"
      ],
      "text/plain": [
       "   longitude  latitude  housing_median_age  total_rooms  total_bedrooms  \\\n",
       "0    -122.23     37.88                41.0        880.0           129.0   \n",
       "1    -122.22     37.86                21.0       7099.0          1106.0   \n",
       "2    -122.24     37.85                52.0       1467.0           190.0   \n",
       "3    -122.25     37.85                52.0       1274.0           235.0   \n",
       "4    -122.25     37.85                52.0       1627.0           280.0   \n",
       "\n",
       "   population  households  median_income  median_house_value ocean_proximity  \n",
       "0       322.0       126.0         8.3252            452600.0        NEAR BAY  \n",
       "1      2401.0      1138.0         8.3014            358500.0        NEAR BAY  \n",
       "2       496.0       177.0         7.2574            352100.0        NEAR BAY  \n",
       "3       558.0       219.0         5.6431            341300.0        NEAR BAY  \n",
       "4       565.0       259.0         3.8462            342200.0        NEAR BAY  "
      ]
     },
     "execution_count": 259,
     "metadata": {},
     "output_type": "execute_result"
    }
   ],
   "source": [
    "df.head()"
   ]
  },
  {
   "cell_type": "markdown",
   "id": "fb9c1b31-6f87-4c6d-9293-1f3ae8f07d6e",
   "metadata": {},
   "source": [
    "Features already selected"
   ]
  },
  {
   "cell_type": "markdown",
   "id": "9d0c30c9-4fe7-4662-8fda-08d6ffb7b65e",
   "metadata": {},
   "source": [
    "## data prep"
   ]
  },
  {
   "cell_type": "code",
   "execution_count": 260,
   "id": "8707bdff-9654-4b35-b907-36362c521aaa",
   "metadata": {},
   "outputs": [
    {
     "data": {
      "text/plain": [
       "longitude               0\n",
       "latitude                0\n",
       "housing_median_age      0\n",
       "total_rooms             0\n",
       "total_bedrooms        207\n",
       "population              0\n",
       "households              0\n",
       "median_income           0\n",
       "median_house_value      0\n",
       "ocean_proximity         0\n",
       "dtype: int64"
      ]
     },
     "execution_count": 260,
     "metadata": {},
     "output_type": "execute_result"
    }
   ],
   "source": [
    "# Missing values\n",
    "df.isnull().sum()"
   ]
  },
  {
   "cell_type": "code",
   "execution_count": 261,
   "id": "acc904b8-d84e-4aa5-a977-b626af174758",
   "metadata": {},
   "outputs": [],
   "source": [
    "# Filling missing values\n",
    "df1=df.copy()\n",
    "df=df.fillna(0)"
   ]
  },
  {
   "cell_type": "code",
   "execution_count": 262,
   "id": "3e73408d-66a8-4346-a44e-1e35e99a191b",
   "metadata": {},
   "outputs": [
    {
     "data": {
      "text/plain": [
       "longitude             0\n",
       "latitude              0\n",
       "housing_median_age    0\n",
       "total_rooms           0\n",
       "total_bedrooms        0\n",
       "population            0\n",
       "households            0\n",
       "median_income         0\n",
       "median_house_value    0\n",
       "ocean_proximity       0\n",
       "dtype: int64"
      ]
     },
     "execution_count": 262,
     "metadata": {},
     "output_type": "execute_result"
    }
   ],
   "source": [
    "df.isnull().sum()"
   ]
  },
  {
   "cell_type": "code",
   "execution_count": 263,
   "id": "53421790-57b8-41ae-ae52-bb30a3ba9c2e",
   "metadata": {},
   "outputs": [],
   "source": [
    "df['rooms_per_household']=df.total_rooms/df.households\n",
    "df['bedrooms_per_room']=df.total_bedrooms/df.total_rooms\n",
    "df['population_per_household']=df.population/df.households"
   ]
  },
  {
   "cell_type": "code",
   "execution_count": 264,
   "id": "8bb5c2dc-aca6-43dd-a611-bb358b6a849e",
   "metadata": {},
   "outputs": [
    {
     "data": {
      "text/html": [
       "<div>\n",
       "<style scoped>\n",
       "    .dataframe tbody tr th:only-of-type {\n",
       "        vertical-align: middle;\n",
       "    }\n",
       "\n",
       "    .dataframe tbody tr th {\n",
       "        vertical-align: top;\n",
       "    }\n",
       "\n",
       "    .dataframe thead th {\n",
       "        text-align: right;\n",
       "    }\n",
       "</style>\n",
       "<table border=\"1\" class=\"dataframe\">\n",
       "  <thead>\n",
       "    <tr style=\"text-align: right;\">\n",
       "      <th></th>\n",
       "      <th>longitude</th>\n",
       "      <th>latitude</th>\n",
       "      <th>housing_median_age</th>\n",
       "      <th>total_rooms</th>\n",
       "      <th>total_bedrooms</th>\n",
       "      <th>population</th>\n",
       "      <th>households</th>\n",
       "      <th>median_income</th>\n",
       "      <th>median_house_value</th>\n",
       "      <th>ocean_proximity</th>\n",
       "      <th>rooms_per_household</th>\n",
       "      <th>bedrooms_per_room</th>\n",
       "      <th>population_per_household</th>\n",
       "    </tr>\n",
       "  </thead>\n",
       "  <tbody>\n",
       "    <tr>\n",
       "      <th>0</th>\n",
       "      <td>-122.23</td>\n",
       "      <td>37.88</td>\n",
       "      <td>41.0</td>\n",
       "      <td>880.0</td>\n",
       "      <td>129.0</td>\n",
       "      <td>322.0</td>\n",
       "      <td>126.0</td>\n",
       "      <td>8.3252</td>\n",
       "      <td>452600.0</td>\n",
       "      <td>NEAR BAY</td>\n",
       "      <td>6.984127</td>\n",
       "      <td>0.146591</td>\n",
       "      <td>2.555556</td>\n",
       "    </tr>\n",
       "    <tr>\n",
       "      <th>1</th>\n",
       "      <td>-122.22</td>\n",
       "      <td>37.86</td>\n",
       "      <td>21.0</td>\n",
       "      <td>7099.0</td>\n",
       "      <td>1106.0</td>\n",
       "      <td>2401.0</td>\n",
       "      <td>1138.0</td>\n",
       "      <td>8.3014</td>\n",
       "      <td>358500.0</td>\n",
       "      <td>NEAR BAY</td>\n",
       "      <td>6.238137</td>\n",
       "      <td>0.155797</td>\n",
       "      <td>2.109842</td>\n",
       "    </tr>\n",
       "    <tr>\n",
       "      <th>2</th>\n",
       "      <td>-122.24</td>\n",
       "      <td>37.85</td>\n",
       "      <td>52.0</td>\n",
       "      <td>1467.0</td>\n",
       "      <td>190.0</td>\n",
       "      <td>496.0</td>\n",
       "      <td>177.0</td>\n",
       "      <td>7.2574</td>\n",
       "      <td>352100.0</td>\n",
       "      <td>NEAR BAY</td>\n",
       "      <td>8.288136</td>\n",
       "      <td>0.129516</td>\n",
       "      <td>2.802260</td>\n",
       "    </tr>\n",
       "    <tr>\n",
       "      <th>3</th>\n",
       "      <td>-122.25</td>\n",
       "      <td>37.85</td>\n",
       "      <td>52.0</td>\n",
       "      <td>1274.0</td>\n",
       "      <td>235.0</td>\n",
       "      <td>558.0</td>\n",
       "      <td>219.0</td>\n",
       "      <td>5.6431</td>\n",
       "      <td>341300.0</td>\n",
       "      <td>NEAR BAY</td>\n",
       "      <td>5.817352</td>\n",
       "      <td>0.184458</td>\n",
       "      <td>2.547945</td>\n",
       "    </tr>\n",
       "    <tr>\n",
       "      <th>4</th>\n",
       "      <td>-122.25</td>\n",
       "      <td>37.85</td>\n",
       "      <td>52.0</td>\n",
       "      <td>1627.0</td>\n",
       "      <td>280.0</td>\n",
       "      <td>565.0</td>\n",
       "      <td>259.0</td>\n",
       "      <td>3.8462</td>\n",
       "      <td>342200.0</td>\n",
       "      <td>NEAR BAY</td>\n",
       "      <td>6.281853</td>\n",
       "      <td>0.172096</td>\n",
       "      <td>2.181467</td>\n",
       "    </tr>\n",
       "  </tbody>\n",
       "</table>\n",
       "</div>"
      ],
      "text/plain": [
       "   longitude  latitude  housing_median_age  total_rooms  total_bedrooms  \\\n",
       "0    -122.23     37.88                41.0        880.0           129.0   \n",
       "1    -122.22     37.86                21.0       7099.0          1106.0   \n",
       "2    -122.24     37.85                52.0       1467.0           190.0   \n",
       "3    -122.25     37.85                52.0       1274.0           235.0   \n",
       "4    -122.25     37.85                52.0       1627.0           280.0   \n",
       "\n",
       "   population  households  median_income  median_house_value ocean_proximity  \\\n",
       "0       322.0       126.0         8.3252            452600.0        NEAR BAY   \n",
       "1      2401.0      1138.0         8.3014            358500.0        NEAR BAY   \n",
       "2       496.0       177.0         7.2574            352100.0        NEAR BAY   \n",
       "3       558.0       219.0         5.6431            341300.0        NEAR BAY   \n",
       "4       565.0       259.0         3.8462            342200.0        NEAR BAY   \n",
       "\n",
       "   rooms_per_household  bedrooms_per_room  population_per_household  \n",
       "0             6.984127           0.146591                  2.555556  \n",
       "1             6.238137           0.155797                  2.109842  \n",
       "2             8.288136           0.129516                  2.802260  \n",
       "3             5.817352           0.184458                  2.547945  \n",
       "4             6.281853           0.172096                  2.181467  "
      ]
     },
     "execution_count": 264,
     "metadata": {},
     "output_type": "execute_result"
    }
   ],
   "source": [
    "df.head()"
   ]
  },
  {
   "cell_type": "markdown",
   "id": "3b677610-6b49-4e5a-9be3-0a003f6ac09b",
   "metadata": {},
   "source": [
    "Columns already in standard format, only updating field ocean_proximity"
   ]
  },
  {
   "cell_type": "code",
   "execution_count": 265,
   "id": "5d80f0e7-465d-447d-9cb5-53711f83e9f7",
   "metadata": {},
   "outputs": [
    {
     "data": {
      "text/plain": [
       "longitude                   float64\n",
       "latitude                    float64\n",
       "housing_median_age          float64\n",
       "total_rooms                 float64\n",
       "total_bedrooms              float64\n",
       "population                  float64\n",
       "households                  float64\n",
       "median_income               float64\n",
       "median_house_value          float64\n",
       "ocean_proximity              object\n",
       "rooms_per_household         float64\n",
       "bedrooms_per_room           float64\n",
       "population_per_household    float64\n",
       "dtype: object"
      ]
     },
     "execution_count": 265,
     "metadata": {},
     "output_type": "execute_result"
    }
   ],
   "source": [
    "df.dtypes"
   ]
  },
  {
   "cell_type": "code",
   "execution_count": 266,
   "id": "7b911943-86f5-4784-b1f7-a15368e786bb",
   "metadata": {},
   "outputs": [],
   "source": [
    "df['ocean_proximity']=df['ocean_proximity'].str.lower().str.replace(' ','_')"
   ]
  },
  {
   "cell_type": "markdown",
   "id": "3e44eb2b-cb6a-423c-98d6-dbd4db962e5b",
   "metadata": {},
   "source": [
    "## Question 1\n",
    "\n",
    "What is the most frequent observation (mode) for the column ocean_proximity?"
   ]
  },
  {
   "cell_type": "code",
   "execution_count": 267,
   "id": "7b710059-ec01-4338-b7cc-d1162c43163c",
   "metadata": {},
   "outputs": [
    {
     "data": {
      "text/plain": [
       "<1h_ocean     9136\n",
       "inland        6551\n",
       "near_ocean    2658\n",
       "near_bay      2290\n",
       "island           5\n",
       "Name: ocean_proximity, dtype: int64"
      ]
     },
     "execution_count": 267,
     "metadata": {},
     "output_type": "execute_result"
    }
   ],
   "source": [
    "df.ocean_proximity.value_counts()"
   ]
  },
  {
   "cell_type": "code",
   "execution_count": 268,
   "id": "31174ff5-35dd-4516-9c40-44d2d4321bad",
   "metadata": {},
   "outputs": [
    {
     "data": {
      "text/plain": [
       "0    <1h_ocean\n",
       "dtype: object"
      ]
     },
     "execution_count": 268,
     "metadata": {},
     "output_type": "execute_result"
    }
   ],
   "source": [
    "df.ocean_proximity.mode()"
   ]
  },
  {
   "cell_type": "markdown",
   "id": "4a01c67c-db6c-43a4-8c53-5d6bec24e535",
   "metadata": {},
   "source": [
    "## Split the data"
   ]
  },
  {
   "cell_type": "code",
   "execution_count": 269,
   "id": "2edda2f5-8cb1-46f9-9d11-70719bd452c6",
   "metadata": {},
   "outputs": [],
   "source": [
    "from sklearn.model_selection import train_test_split"
   ]
  },
  {
   "cell_type": "code",
   "execution_count": 270,
   "id": "9149b4d1-53af-4521-9d4d-ff4211292bbc",
   "metadata": {},
   "outputs": [],
   "source": [
    "df_full_train,df_test=train_test_split(df,test_size=0.2,random_state=42)\n",
    "df_train,df_val=train_test_split(df_full_train,test_size=0.25,random_state=42)"
   ]
  },
  {
   "cell_type": "code",
   "execution_count": 271,
   "id": "cf5ffa27-cec7-4af2-8808-16fb7dd77b67",
   "metadata": {},
   "outputs": [
    {
     "data": {
      "text/plain": [
       "(20640, 4128.0, 12384, 4128, 4128)"
      ]
     },
     "execution_count": 271,
     "metadata": {},
     "output_type": "execute_result"
    }
   ],
   "source": [
    "len(df),len(df)*0.2,len(df_train),len(df_test),len(df_val)"
   ]
  },
  {
   "cell_type": "code",
   "execution_count": 272,
   "id": "a3cad775-7237-475d-8d1d-6dc692921b08",
   "metadata": {},
   "outputs": [],
   "source": [
    "df_full_train=df_full_train.reset_index(drop=True)\n",
    "df_train=df_train.reset_index(drop=True)\n",
    "df_test=df_test.reset_index(drop=True)\n",
    "df_val=df_val.reset_index(drop=True)"
   ]
  },
  {
   "cell_type": "code",
   "execution_count": 273,
   "id": "4cd28e5b-b2ef-4092-b4df-2df1c8b1287a",
   "metadata": {},
   "outputs": [],
   "source": [
    "# splitting y\n",
    "y_full_train=df_full_train['median_house_value'].values\n",
    "y_train=df_train['median_house_value'].values\n",
    "y_test=df_test['median_house_value'].values\n",
    "y_val=df_val['median_house_value'].values"
   ]
  },
  {
   "cell_type": "code",
   "execution_count": 274,
   "id": "36e3d486-7fc6-41a0-addc-6536f702d391",
   "metadata": {},
   "outputs": [],
   "source": [
    "# dropping dependent / leaving full train for data analysis\n",
    "# del df_full_train['median_house_value']\n",
    "del df_train['median_house_value']\n",
    "del df_test['median_house_value']\n",
    "del df_val['median_house_value']"
   ]
  },
  {
   "cell_type": "markdown",
   "id": "659b9a6d-f260-4ea9-95bc-2de7cfa55fd8",
   "metadata": {},
   "source": [
    "## Question 2\n",
    "What are the two features that have the biggest correlation in this dataset?"
   ]
  },
  {
   "cell_type": "code",
   "execution_count": 275,
   "id": "925776f8-5996-4a01-9ccf-cb6ec2e5c6ec",
   "metadata": {},
   "outputs": [],
   "source": [
    "#avoiding longitude and latitude for this\n",
    "numericals=['housing_median_age','total_rooms','total_bedrooms','population','households','median_income','rooms_per_household','bedrooms_per_room','population_per_household']\n"
   ]
  },
  {
   "cell_type": "code",
   "execution_count": 276,
   "id": "898a6f7e-01c2-4910-9cfd-23c4eedcfb35",
   "metadata": {},
   "outputs": [
    {
     "data": {
      "text/plain": [
       "housing_median_age         -0.320624\n",
       "total_rooms                 0.930489\n",
       "total_bedrooms              1.000000\n",
       "population                  0.878932\n",
       "households                  0.980255\n",
       "median_income              -0.009141\n",
       "rooms_per_household        -0.001659\n",
       "bedrooms_per_room           0.084149\n",
       "population_per_household   -0.028536\n",
       "dtype: float64"
      ]
     },
     "execution_count": 276,
     "metadata": {},
     "output_type": "execute_result"
    }
   ],
   "source": [
    "df_full_train[numericals].corrwith(df_full_train.total_bedrooms)"
   ]
  },
  {
   "cell_type": "code",
   "execution_count": 277,
   "id": "17761a3c-d571-495b-ad3a-65c7e0066bfd",
   "metadata": {},
   "outputs": [
    {
     "data": {
      "text/plain": [
       "housing_median_age         -0.302796\n",
       "total_rooms                 0.920482\n",
       "total_bedrooms              0.980255\n",
       "population                  0.907452\n",
       "households                  1.000000\n",
       "median_income               0.012776\n",
       "rooms_per_household        -0.083062\n",
       "bedrooms_per_room           0.064185\n",
       "population_per_household   -0.027656\n",
       "dtype: float64"
      ]
     },
     "execution_count": 277,
     "metadata": {},
     "output_type": "execute_result"
    }
   ],
   "source": [
    "df_full_train[numericals].corrwith(df_full_train.households)"
   ]
  },
  {
   "cell_type": "code",
   "execution_count": 278,
   "id": "dc4ff258-45b2-48dc-9011-ffb2cbea5fd8",
   "metadata": {},
   "outputs": [
    {
     "data": {
      "text/plain": [
       "housing_median_age         -0.360922\n",
       "total_rooms                 1.000000\n",
       "total_bedrooms              0.930489\n",
       "population                  0.857936\n",
       "households                  0.920482\n",
       "median_income               0.198268\n",
       "rooms_per_household         0.136090\n",
       "bedrooms_per_room          -0.189316\n",
       "population_per_household   -0.024991\n",
       "dtype: float64"
      ]
     },
     "execution_count": 278,
     "metadata": {},
     "output_type": "execute_result"
    }
   ],
   "source": [
    "df_full_train[numericals].corrwith(df_full_train.total_rooms)"
   ]
  },
  {
   "cell_type": "code",
   "execution_count": 279,
   "id": "ee374203-ed0d-4b83-84c8-3535c1d0fa69",
   "metadata": {},
   "outputs": [
    {
     "data": {
      "text/html": [
       "<div>\n",
       "<style scoped>\n",
       "    .dataframe tbody tr th:only-of-type {\n",
       "        vertical-align: middle;\n",
       "    }\n",
       "\n",
       "    .dataframe tbody tr th {\n",
       "        vertical-align: top;\n",
       "    }\n",
       "\n",
       "    .dataframe thead th {\n",
       "        text-align: right;\n",
       "    }\n",
       "</style>\n",
       "<table border=\"1\" class=\"dataframe\">\n",
       "  <thead>\n",
       "    <tr style=\"text-align: right;\">\n",
       "      <th></th>\n",
       "      <th>housing_median_age</th>\n",
       "      <th>total_rooms</th>\n",
       "      <th>total_bedrooms</th>\n",
       "      <th>population</th>\n",
       "      <th>households</th>\n",
       "      <th>median_income</th>\n",
       "      <th>rooms_per_household</th>\n",
       "      <th>bedrooms_per_room</th>\n",
       "      <th>population_per_household</th>\n",
       "    </tr>\n",
       "  </thead>\n",
       "  <tbody>\n",
       "    <tr>\n",
       "      <th>housing_median_age</th>\n",
       "      <td>1.000000</td>\n",
       "      <td>-0.360922</td>\n",
       "      <td>-0.320624</td>\n",
       "      <td>-0.292283</td>\n",
       "      <td>-0.302796</td>\n",
       "      <td>-0.121711</td>\n",
       "      <td>-0.160892</td>\n",
       "      <td>0.135495</td>\n",
       "      <td>0.016245</td>\n",
       "    </tr>\n",
       "    <tr>\n",
       "      <th>total_rooms</th>\n",
       "      <td>-0.360922</td>\n",
       "      <td>1.000000</td>\n",
       "      <td>0.930489</td>\n",
       "      <td>0.857936</td>\n",
       "      <td>0.920482</td>\n",
       "      <td>0.198268</td>\n",
       "      <td>0.136090</td>\n",
       "      <td>-0.189316</td>\n",
       "      <td>-0.024991</td>\n",
       "    </tr>\n",
       "    <tr>\n",
       "      <th>total_bedrooms</th>\n",
       "      <td>-0.320624</td>\n",
       "      <td>0.930489</td>\n",
       "      <td>1.000000</td>\n",
       "      <td>0.878932</td>\n",
       "      <td>0.980255</td>\n",
       "      <td>-0.009141</td>\n",
       "      <td>-0.001659</td>\n",
       "      <td>0.084149</td>\n",
       "      <td>-0.028536</td>\n",
       "    </tr>\n",
       "    <tr>\n",
       "      <th>population</th>\n",
       "      <td>-0.292283</td>\n",
       "      <td>0.857936</td>\n",
       "      <td>0.878932</td>\n",
       "      <td>1.000000</td>\n",
       "      <td>0.907452</td>\n",
       "      <td>0.004122</td>\n",
       "      <td>-0.073733</td>\n",
       "      <td>0.035134</td>\n",
       "      <td>0.072330</td>\n",
       "    </tr>\n",
       "    <tr>\n",
       "      <th>households</th>\n",
       "      <td>-0.302796</td>\n",
       "      <td>0.920482</td>\n",
       "      <td>0.980255</td>\n",
       "      <td>0.907452</td>\n",
       "      <td>1.000000</td>\n",
       "      <td>0.012776</td>\n",
       "      <td>-0.083062</td>\n",
       "      <td>0.064185</td>\n",
       "      <td>-0.027656</td>\n",
       "    </tr>\n",
       "    <tr>\n",
       "      <th>median_income</th>\n",
       "      <td>-0.121711</td>\n",
       "      <td>0.198268</td>\n",
       "      <td>-0.009141</td>\n",
       "      <td>0.004122</td>\n",
       "      <td>0.012776</td>\n",
       "      <td>1.000000</td>\n",
       "      <td>0.336013</td>\n",
       "      <td>-0.616669</td>\n",
       "      <td>0.022061</td>\n",
       "    </tr>\n",
       "    <tr>\n",
       "      <th>rooms_per_household</th>\n",
       "      <td>-0.160892</td>\n",
       "      <td>0.136090</td>\n",
       "      <td>-0.001659</td>\n",
       "      <td>-0.073733</td>\n",
       "      <td>-0.083062</td>\n",
       "      <td>0.336013</td>\n",
       "      <td>1.000000</td>\n",
       "      <td>-0.435169</td>\n",
       "      <td>-0.004922</td>\n",
       "    </tr>\n",
       "    <tr>\n",
       "      <th>bedrooms_per_room</th>\n",
       "      <td>0.135495</td>\n",
       "      <td>-0.189316</td>\n",
       "      <td>0.084149</td>\n",
       "      <td>0.035134</td>\n",
       "      <td>0.064185</td>\n",
       "      <td>-0.616669</td>\n",
       "      <td>-0.435169</td>\n",
       "      <td>1.000000</td>\n",
       "      <td>0.003938</td>\n",
       "    </tr>\n",
       "    <tr>\n",
       "      <th>population_per_household</th>\n",
       "      <td>0.016245</td>\n",
       "      <td>-0.024991</td>\n",
       "      <td>-0.028536</td>\n",
       "      <td>0.072330</td>\n",
       "      <td>-0.027656</td>\n",
       "      <td>0.022061</td>\n",
       "      <td>-0.004922</td>\n",
       "      <td>0.003938</td>\n",
       "      <td>1.000000</td>\n",
       "    </tr>\n",
       "  </tbody>\n",
       "</table>\n",
       "</div>"
      ],
      "text/plain": [
       "                          housing_median_age  total_rooms  total_bedrooms  \\\n",
       "housing_median_age                  1.000000    -0.360922       -0.320624   \n",
       "total_rooms                        -0.360922     1.000000        0.930489   \n",
       "total_bedrooms                     -0.320624     0.930489        1.000000   \n",
       "population                         -0.292283     0.857936        0.878932   \n",
       "households                         -0.302796     0.920482        0.980255   \n",
       "median_income                      -0.121711     0.198268       -0.009141   \n",
       "rooms_per_household                -0.160892     0.136090       -0.001659   \n",
       "bedrooms_per_room                   0.135495    -0.189316        0.084149   \n",
       "population_per_household            0.016245    -0.024991       -0.028536   \n",
       "\n",
       "                          population  households  median_income  \\\n",
       "housing_median_age         -0.292283   -0.302796      -0.121711   \n",
       "total_rooms                 0.857936    0.920482       0.198268   \n",
       "total_bedrooms              0.878932    0.980255      -0.009141   \n",
       "population                  1.000000    0.907452       0.004122   \n",
       "households                  0.907452    1.000000       0.012776   \n",
       "median_income               0.004122    0.012776       1.000000   \n",
       "rooms_per_household        -0.073733   -0.083062       0.336013   \n",
       "bedrooms_per_room           0.035134    0.064185      -0.616669   \n",
       "population_per_household    0.072330   -0.027656       0.022061   \n",
       "\n",
       "                          rooms_per_household  bedrooms_per_room  \\\n",
       "housing_median_age                  -0.160892           0.135495   \n",
       "total_rooms                          0.136090          -0.189316   \n",
       "total_bedrooms                      -0.001659           0.084149   \n",
       "population                          -0.073733           0.035134   \n",
       "households                          -0.083062           0.064185   \n",
       "median_income                        0.336013          -0.616669   \n",
       "rooms_per_household                  1.000000          -0.435169   \n",
       "bedrooms_per_room                   -0.435169           1.000000   \n",
       "population_per_household            -0.004922           0.003938   \n",
       "\n",
       "                          population_per_household  \n",
       "housing_median_age                        0.016245  \n",
       "total_rooms                              -0.024991  \n",
       "total_bedrooms                           -0.028536  \n",
       "population                                0.072330  \n",
       "households                               -0.027656  \n",
       "median_income                             0.022061  \n",
       "rooms_per_household                      -0.004922  \n",
       "bedrooms_per_room                         0.003938  \n",
       "population_per_household                  1.000000  "
      ]
     },
     "execution_count": 279,
     "metadata": {},
     "output_type": "execute_result"
    }
   ],
   "source": [
    "df_full_train[numericals].corr()"
   ]
  },
  {
   "cell_type": "markdown",
   "id": "1c61b4dc-8871-47ef-be1d-5736567c77c8",
   "metadata": {},
   "source": [
    "**Max correlation between=** households and total bedroom\n",
    "**Max correlation=** 0.980255"
   ]
  },
  {
   "cell_type": "markdown",
   "id": "1a344e66-af4a-4539-973c-7ec23d36dfe6",
   "metadata": {},
   "source": [
    "## Make median_house_value binary"
   ]
  },
  {
   "cell_type": "code",
   "execution_count": 280,
   "id": "c322c5aa-a322-42c2-b7cc-da4f6b6c264a",
   "metadata": {},
   "outputs": [
    {
     "data": {
      "text/plain": [
       "206807.7419250646"
      ]
     },
     "execution_count": 280,
     "metadata": {},
     "output_type": "execute_result"
    }
   ],
   "source": [
    "global_mean_house_value= y_train.mean()\n",
    "global_mean_house_value"
   ]
  },
  {
   "cell_type": "code",
   "execution_count": 281,
   "id": "d5395790-5251-45a2-ab2a-9e4075ff0ab3",
   "metadata": {},
   "outputs": [],
   "source": [
    "# Copying to avoid loss of info\n",
    "y_full_train1=y_full_train.copy()\n",
    "y_train1=y_train.copy()\n",
    "y_test1=y_test.copy()\n",
    "y_val1=y_val.copy()"
   ]
  },
  {
   "cell_type": "code",
   "execution_count": 282,
   "id": "d723bdcd-bbc6-4833-aa5a-251cf34d4833",
   "metadata": {},
   "outputs": [],
   "source": [
    "y_full_train=(y_full_train>=global_mean_house_value).astype(int)\n",
    "y_train=(y_train>=global_mean_house_value).astype(int)\n",
    "y_test=(y_test>=global_mean_house_value).astype(int)\n",
    "y_val=(y_val>=global_mean_house_value).astype(int)\n",
    "df_full_train['bin_med_house_val']=(df_full_train.median_house_value>=global_mean_house_value).astype(int)"
   ]
  },
  {
   "cell_type": "code",
   "execution_count": 283,
   "id": "de545cdd-9f42-46d7-a4d1-127dadd8d9c0",
   "metadata": {},
   "outputs": [
    {
     "data": {
      "text/plain": [
       "array([0, 1, 0, ..., 1, 1, 1])"
      ]
     },
     "execution_count": 283,
     "metadata": {},
     "output_type": "execute_result"
    }
   ],
   "source": [
    "y_full_train"
   ]
  },
  {
   "cell_type": "markdown",
   "id": "fc7d0d41-9bfa-4ad1-81c0-f1e994241fbe",
   "metadata": {},
   "source": [
    "## Question 3\n",
    "Calculate the mutual information score with the (binarized) price for the categorical variable that we have. Use the training set only."
   ]
  },
  {
   "cell_type": "code",
   "execution_count": 284,
   "id": "eaf5c38d-8b41-48c5-a721-f96475d65b82",
   "metadata": {},
   "outputs": [],
   "source": [
    "from sklearn.metrics import mutual_info_score"
   ]
  },
  {
   "cell_type": "code",
   "execution_count": 285,
   "id": "3283f769-70f2-4f26-9e3a-7a31d329d275",
   "metadata": {},
   "outputs": [
    {
     "data": {
      "text/plain": [
       "0.1"
      ]
     },
     "execution_count": 285,
     "metadata": {},
     "output_type": "execute_result"
    }
   ],
   "source": [
    "round(mutual_info_score(df_full_train.bin_med_house_val,df_full_train.ocean_proximity),2)"
   ]
  },
  {
   "cell_type": "markdown",
   "id": "08d7c21e-61f4-41e1-bb67-62dcbdd2dabe",
   "metadata": {},
   "source": [
    "## Question 4\n",
    "Calculate the accuracy on the validation dataset and round it to 2 decimal digits."
   ]
  },
  {
   "cell_type": "code",
   "execution_count": 286,
   "id": "da8861ba-14e8-4227-ad11-a6050ae4167f",
   "metadata": {},
   "outputs": [],
   "source": [
    "from sklearn.feature_extraction import DictVectorizer"
   ]
  },
  {
   "cell_type": "code",
   "execution_count": 287,
   "id": "1556701d-4b64-487a-a796-07d451e3e8cc",
   "metadata": {},
   "outputs": [],
   "source": [
    "train_dict=df_train.to_dict(orient='records')\n",
    "dv=DictVectorizer(sparse=False)\n",
    "X_train=dv.fit_transform(train_dict)"
   ]
  },
  {
   "cell_type": "code",
   "execution_count": 288,
   "id": "f609f633-db42-46b6-a6bb-79fbc31748d9",
   "metadata": {},
   "outputs": [],
   "source": [
    "from sklearn.linear_model import LogisticRegression"
   ]
  },
  {
   "cell_type": "code",
   "execution_count": 289,
   "id": "dd51b678-65e8-43d6-96ec-24eb2e02f06e",
   "metadata": {},
   "outputs": [],
   "source": [
    "model = LogisticRegression(solver=\"liblinear\", C=1.0, max_iter=1000, random_state=42)"
   ]
  },
  {
   "cell_type": "code",
   "execution_count": 290,
   "id": "e31993a2-6530-4cb2-b2b8-3571525308c7",
   "metadata": {},
   "outputs": [
    {
     "data": {
      "text/plain": [
       "LogisticRegression(max_iter=1000, random_state=42, solver='liblinear')"
      ]
     },
     "execution_count": 290,
     "metadata": {},
     "output_type": "execute_result"
    }
   ],
   "source": [
    "model.fit(X_train,y_train)"
   ]
  },
  {
   "cell_type": "markdown",
   "id": "12d26e68-8fc0-40f3-ba56-e75437d14f55",
   "metadata": {},
   "source": [
    "**Calculating accuracy**"
   ]
  },
  {
   "cell_type": "code",
   "execution_count": 291,
   "id": "010113c4-5a44-4de6-9447-ea831a215050",
   "metadata": {},
   "outputs": [],
   "source": [
    "val_dict=df_val.to_dict(orient='records')\n",
    "X_val=dv.transform(val_dict)\n",
    "y_pred=model.predict(X_val)"
   ]
  },
  {
   "cell_type": "code",
   "execution_count": 292,
   "id": "f9dd71c8-1f8a-421f-b35b-3b05d48aa7a9",
   "metadata": {},
   "outputs": [
    {
     "name": "stdout",
     "output_type": "stream",
     "text": [
      "Total accuracy is  0.84\n"
     ]
    }
   ],
   "source": [
    "total_accuracy=(y_pred==y_val).mean()\n",
    "print('Total accuracy is ', round(total_accuracy,2))"
   ]
  },
  {
   "cell_type": "markdown",
   "id": "a599efe8-1ae9-4660-ad88-6aa9318ca584",
   "metadata": {},
   "source": [
    "## Question 5\n",
    "Which of following feature has the smallest difference (in accuracy)?\n",
    "\n",
    "    total_rooms\n",
    "    total_bedrooms\n",
    "    population\n",
    "    households\n"
   ]
  },
  {
   "cell_type": "code",
   "execution_count": 293,
   "id": "3193bb73-1088-4eaa-9751-4ba19c16a835",
   "metadata": {},
   "outputs": [
    {
     "name": "stdout",
     "output_type": "stream",
     "text": [
      "longitude\n",
      "0.8328\n",
      "0.0027\n",
      "\n",
      "latitude\n",
      "0.8326\n",
      "0.0029\n",
      "\n",
      "housing_median_age\n",
      "0.8299\n",
      "0.0056\n",
      "\n",
      "total_rooms\n",
      "0.8362\n",
      "0.0007\n",
      "\n",
      "total_bedrooms\n",
      "0.8387\n",
      "0.0031\n",
      "\n",
      "population\n",
      "0.8263\n",
      "0.0092\n",
      "\n",
      "households\n",
      "0.8331\n",
      "0.0024\n",
      "\n",
      "median_income\n",
      "0.7863\n",
      "0.0492\n",
      "\n",
      "ocean_proximity\n",
      "0.82\n",
      "0.0155\n",
      "\n",
      "rooms_per_household\n",
      "0.836\n",
      "0.0005\n",
      "\n",
      "bedrooms_per_room\n",
      "0.8365\n",
      "0.001\n",
      "\n",
      "population_per_household\n",
      "0.8365\n",
      "0.001\n",
      "\n"
     ]
    }
   ],
   "source": [
    "\n",
    "for col in df_train.columns:\n",
    "    \n",
    "    df_train1=df_train.copy()\n",
    "    df_val1=df_val.copy()\n",
    "    del df_train1[col]\n",
    "    del df_val1[col]\n",
    "    train_dict=df_train1.to_dict(orient='records')\n",
    "    dv=DictVectorizer(sparse=False)\n",
    "    X_train=dv.fit_transform(train_dict)\n",
    "    model.fit(X_train,y_train)\n",
    "    val_dict=df_val1.to_dict(orient='records')\n",
    "    X_val=dv.transform(val_dict)\n",
    "    y_pred=model.predict(X_val)\n",
    "    score=(y_pred==y_val).mean()\n",
    "    print(col)\n",
    "    print(round(score,4))\n",
    "    print(round(abs(score-total_accuracy),4))\n",
    "    print()\n"
   ]
  },
  {
   "cell_type": "markdown",
   "id": "0163ae8b-e71b-4296-a745-cbd41a298916",
   "metadata": {},
   "source": [
    "**least difference is for :** *total_rooms*"
   ]
  },
  {
   "cell_type": "markdown",
   "id": "619c3b32-5bff-44e9-8cc8-2936aabaa5e5",
   "metadata": {},
   "source": [
    "## Question 6\n",
    "\n",
    "Which of these alphas leads to the best RMSE on the validation set (for Ridge regression)? "
   ]
  },
  {
   "cell_type": "code",
   "execution_count": 294,
   "id": "2850bd35-c7fa-4707-b3d4-e8d5e3568cc8",
   "metadata": {},
   "outputs": [],
   "source": [
    "df_full_train,df_test=train_test_split(df,test_size=0.2,random_state=42)\n",
    "df_train,df_val=train_test_split(df_full_train,test_size=0.25,random_state=42)\n",
    "df_full_train=df_full_train.reset_index(drop=True)\n",
    "df_train=df_train.reset_index(drop=True)\n",
    "df_test=df_test.reset_index(drop=True)\n",
    "df_val=df_val.reset_index(drop=True)\n",
    "y_full_train=np.log1p(df_full_train['median_house_value']).values\n",
    "y_train=np.log1p(df_train['median_house_value']).values\n",
    "y_test=np.log1p(df_test['median_house_value']).values\n",
    "y_val=np.log1p(df_val['median_house_value']).values"
   ]
  },
  {
   "cell_type": "code",
   "execution_count": 295,
   "id": "32895288-26b4-4f48-8a5c-bfbcfc9fe094",
   "metadata": {},
   "outputs": [],
   "source": [
    "# del df_full_train['median_house_value']\n",
    "del df_train['median_house_value']\n",
    "del df_test['median_house_value']\n",
    "del df_val['median_house_value']"
   ]
  },
  {
   "cell_type": "code",
   "execution_count": 296,
   "id": "3c7fec70-031c-4d78-98a0-d8daa1966854",
   "metadata": {},
   "outputs": [],
   "source": [
    "from sklearn.linear_model import Ridge"
   ]
  },
  {
   "cell_type": "code",
   "execution_count": 297,
   "id": "4994b366-0215-49b8-8d4b-be046d11158c",
   "metadata": {},
   "outputs": [],
   "source": [
    "a=0.01\n",
    "model = Ridge(alpha=a, solver=\"sag\", random_state=42)"
   ]
  },
  {
   "cell_type": "code",
   "execution_count": 298,
   "id": "d8c23430-2ac5-4707-971a-d3023457c032",
   "metadata": {},
   "outputs": [],
   "source": [
    "train_dict=df_train.to_dict(orient='records')\n",
    "X_train=dv.fit_transform(train_dict)"
   ]
  },
  {
   "cell_type": "code",
   "execution_count": 299,
   "id": "3c64f237-d861-432e-ac05-6983e052364c",
   "metadata": {},
   "outputs": [
    {
     "data": {
      "text/plain": [
       "Ridge(alpha=0.01, random_state=42, solver='sag')"
      ]
     },
     "execution_count": 299,
     "metadata": {},
     "output_type": "execute_result"
    }
   ],
   "source": [
    "model.fit(X_train,y_train)"
   ]
  },
  {
   "cell_type": "code",
   "execution_count": 300,
   "id": "1494c1af-0c9f-45ca-8c80-27d8b29c485c",
   "metadata": {},
   "outputs": [],
   "source": [
    "val_dict=df_val.to_dict(orient='records')\n",
    "X_val=dv.transform(val_dict)\n",
    "y_pred=model.predict(X_val)"
   ]
  },
  {
   "cell_type": "code",
   "execution_count": 301,
   "id": "4f5ef3a1-29cb-4f18-ae1b-db09e94723d3",
   "metadata": {},
   "outputs": [],
   "source": [
    "from sklearn.metrics import mean_squared_error"
   ]
  },
  {
   "cell_type": "code",
   "execution_count": 302,
   "id": "a3e6ffdb-9911-49f5-a118-353158055dfc",
   "metadata": {},
   "outputs": [
    {
     "data": {
      "text/plain": [
       "0.27464262615435947"
      ]
     },
     "execution_count": 302,
     "metadata": {},
     "output_type": "execute_result"
    }
   ],
   "source": [
    "mean_squared_error(y_pred,y_val)"
   ]
  },
  {
   "cell_type": "code",
   "execution_count": 303,
   "id": "a9885bd9-c6b9-4927-8a7c-49c155f61596",
   "metadata": {},
   "outputs": [
    {
     "name": "stdout",
     "output_type": "stream",
     "text": [
      "0\n",
      "RMSE =  0.2746\n",
      "0.01\n",
      "RMSE =  0.2746\n",
      "0.1\n",
      "RMSE =  0.2746\n",
      "1\n",
      "RMSE =  0.2746\n",
      "10\n",
      "RMSE =  0.2746\n"
     ]
    }
   ],
   "source": [
    "for a in [0, 0.01, 0.1, 1, 10]:\n",
    "    model = Ridge(alpha=a, solver=\"sag\", random_state=42)\n",
    "    model.fit(X_train,y_train)\n",
    "    y_pred=model.predict(X_val)\n",
    "    print(a)\n",
    "    print('RMSE = ',round(mean_squared_error(y_pred,y_val),4))"
   ]
  },
  {
   "cell_type": "code",
   "execution_count": null,
   "id": "5ade101e-982a-4f01-b281-ed2de7c00889",
   "metadata": {},
   "outputs": [],
   "source": []
  }
 ],
 "metadata": {
  "kernelspec": {
   "display_name": "Python 3",
   "language": "python",
   "name": "python3"
  },
  "language_info": {
   "codemirror_mode": {
    "name": "ipython",
    "version": 3
   },
   "file_extension": ".py",
   "mimetype": "text/x-python",
   "name": "python",
   "nbconvert_exporter": "python",
   "pygments_lexer": "ipython3",
   "version": "3.8.8"
  }
 },
 "nbformat": 4,
 "nbformat_minor": 5
}
